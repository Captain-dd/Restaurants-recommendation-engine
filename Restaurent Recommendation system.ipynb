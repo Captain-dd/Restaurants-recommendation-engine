{
 "cells": [
  {
   "cell_type": "code",
   "execution_count": 1,
   "id": "21d1efa7",
   "metadata": {
    "ExecuteTime": {
     "end_time": "2022-08-04T08:00:53.184501Z",
     "start_time": "2022-08-04T08:00:51.596499Z"
    }
   },
   "outputs": [],
   "source": [
    "import pandas as pd \n",
    "import numpy as np \n",
    "\n",
    "\n",
    "\n",
    "import seaborn as sns\n",
    "import matplotlib.pyplot as plt\n",
    "\n",
    "import IPython\n",
    "\n",
    "from PIL import Image\n",
    "import requests\n",
    "from io import BytesIO\n",
    "\n",
    "from sklearn.feature_extraction.text import CountVectorizer\n",
    "\n",
    "from sklearn.metrics import pairwise_distances\n",
    "\n",
    "from sklearn.impute import SimpleImputer"
   ]
  },
  {
   "cell_type": "code",
   "execution_count": 2,
   "id": "23de4691",
   "metadata": {
    "ExecuteTime": {
     "end_time": "2022-08-04T08:01:04.538450Z",
     "start_time": "2022-08-04T08:01:04.388546Z"
    }
   },
   "outputs": [
    {
     "data": {
      "text/html": [
       "<div>\n",
       "<style scoped>\n",
       "    .dataframe tbody tr th:only-of-type {\n",
       "        vertical-align: middle;\n",
       "    }\n",
       "\n",
       "    .dataframe tbody tr th {\n",
       "        vertical-align: top;\n",
       "    }\n",
       "\n",
       "    .dataframe thead th {\n",
       "        text-align: right;\n",
       "    }\n",
       "</style>\n",
       "<table border=\"1\" class=\"dataframe\">\n",
       "  <thead>\n",
       "    <tr style=\"text-align: right;\">\n",
       "      <th></th>\n",
       "      <th>url</th>\n",
       "      <th>address</th>\n",
       "      <th>name</th>\n",
       "      <th>online_order</th>\n",
       "      <th>book_table</th>\n",
       "      <th>rate</th>\n",
       "      <th>votes</th>\n",
       "      <th>phone</th>\n",
       "      <th>location</th>\n",
       "      <th>rest_type</th>\n",
       "      <th>dish_liked</th>\n",
       "      <th>cuisines</th>\n",
       "      <th>approx_cost(for two people)</th>\n",
       "      <th>listed_in(type)</th>\n",
       "      <th>listed_in(city)</th>\n",
       "    </tr>\n",
       "  </thead>\n",
       "  <tbody>\n",
       "    <tr>\n",
       "      <th>2093</th>\n",
       "      <td>https://www.zomato.com/bangalore/alloro-the-ot...</td>\n",
       "      <td>The Oterra, 43, Phase 1, Electronic City, Bang...</td>\n",
       "      <td>Alloro - The Oterra</td>\n",
       "      <td>No</td>\n",
       "      <td>Yes</td>\n",
       "      <td>4.0/5</td>\n",
       "      <td>63</td>\n",
       "      <td>080 39854710</td>\n",
       "      <td>Electronic City</td>\n",
       "      <td>Fine Dining</td>\n",
       "      <td>Pasta, Pizza, Tiramisu, Minestrone Soup, Mushr...</td>\n",
       "      <td>Italian</td>\n",
       "      <td>2,500</td>\n",
       "      <td>Dine-out</td>\n",
       "      <td>Electronic City</td>\n",
       "    </tr>\n",
       "    <tr>\n",
       "      <th>193</th>\n",
       "      <td>https://www.zomato.com/bangalore/subz-jayanaga...</td>\n",
       "      <td>Cosmopolitan Club, Ground Floor, 22nd Cross, 3...</td>\n",
       "      <td>Subz</td>\n",
       "      <td>Yes</td>\n",
       "      <td>Yes</td>\n",
       "      <td>4.2/5</td>\n",
       "      <td>2022</td>\n",
       "      <td>080 49652607</td>\n",
       "      <td>Jayanagar</td>\n",
       "      <td>Casual Dining</td>\n",
       "      <td>Veg Buffet, Pasta, Salads, Rasmalai, Chaat, Bi...</td>\n",
       "      <td>North Indian, South Indian</td>\n",
       "      <td>1,000</td>\n",
       "      <td>Delivery</td>\n",
       "      <td>Banashankari</td>\n",
       "    </tr>\n",
       "    <tr>\n",
       "      <th>2136</th>\n",
       "      <td>https://www.zomato.com/bangalore/vijaya-garden...</td>\n",
       "      <td>Opposite Orion East Mall, Jai Bharat Nagar, Ba...</td>\n",
       "      <td>Vijaya Gardenia</td>\n",
       "      <td>Yes</td>\n",
       "      <td>No</td>\n",
       "      <td>3.4/5</td>\n",
       "      <td>63</td>\n",
       "      <td>080 49574999</td>\n",
       "      <td>Banaswadi</td>\n",
       "      <td>Casual Dining</td>\n",
       "      <td>Naan, Sea Food, Biryani, Lime Soda</td>\n",
       "      <td>North Indian, Chinese, Andhra</td>\n",
       "      <td>500</td>\n",
       "      <td>Delivery</td>\n",
       "      <td>Frazer Town</td>\n",
       "    </tr>\n",
       "    <tr>\n",
       "      <th>539</th>\n",
       "      <td>https://www.zomato.com/bangalore/tree-top-wils...</td>\n",
       "      <td>Temple Tree Hotel, 3, 9th Cross, Wilson Garden...</td>\n",
       "      <td>Tree Top</td>\n",
       "      <td>Yes</td>\n",
       "      <td>No</td>\n",
       "      <td>3.8/5</td>\n",
       "      <td>74</td>\n",
       "      <td>080 49652744</td>\n",
       "      <td>Wilson Garden</td>\n",
       "      <td>Casual Dining</td>\n",
       "      <td>Friendly Staff</td>\n",
       "      <td>Continental, Chinese, North Indian, South Indian</td>\n",
       "      <td>1,000</td>\n",
       "      <td>Buffet</td>\n",
       "      <td>Basavanagudi</td>\n",
       "    </tr>\n",
       "    <tr>\n",
       "      <th>1803</th>\n",
       "      <td>https://www.zomato.com/bangalore/rashtrakutas-...</td>\n",
       "      <td>85/6, 15th Cross, 19th Main, Sector 1, HSR, Ba...</td>\n",
       "      <td>Rashtrakutas</td>\n",
       "      <td>Yes</td>\n",
       "      <td>Yes</td>\n",
       "      <td>3.9/5</td>\n",
       "      <td>402</td>\n",
       "      <td>+91 8884459955\\r\\n+91 8884495599</td>\n",
       "      <td>HSR</td>\n",
       "      <td>Casual Dining</td>\n",
       "      <td>Gulkand Ice Cream, Thali, Corn Paratha, Donne ...</td>\n",
       "      <td>South Indian, Biryani, North Indian</td>\n",
       "      <td>800</td>\n",
       "      <td>Delivery</td>\n",
       "      <td>BTM</td>\n",
       "    </tr>\n",
       "  </tbody>\n",
       "</table>\n",
       "</div>"
      ],
      "text/plain": [
       "                                                    url  \\\n",
       "2093  https://www.zomato.com/bangalore/alloro-the-ot...   \n",
       "193   https://www.zomato.com/bangalore/subz-jayanaga...   \n",
       "2136  https://www.zomato.com/bangalore/vijaya-garden...   \n",
       "539   https://www.zomato.com/bangalore/tree-top-wils...   \n",
       "1803  https://www.zomato.com/bangalore/rashtrakutas-...   \n",
       "\n",
       "                                                address                 name  \\\n",
       "2093  The Oterra, 43, Phase 1, Electronic City, Bang...  Alloro - The Oterra   \n",
       "193   Cosmopolitan Club, Ground Floor, 22nd Cross, 3...                 Subz   \n",
       "2136  Opposite Orion East Mall, Jai Bharat Nagar, Ba...      Vijaya Gardenia   \n",
       "539   Temple Tree Hotel, 3, 9th Cross, Wilson Garden...             Tree Top   \n",
       "1803  85/6, 15th Cross, 19th Main, Sector 1, HSR, Ba...         Rashtrakutas   \n",
       "\n",
       "     online_order book_table   rate  votes                             phone  \\\n",
       "2093           No        Yes  4.0/5     63                      080 39854710   \n",
       "193           Yes        Yes  4.2/5   2022                      080 49652607   \n",
       "2136          Yes         No  3.4/5     63                      080 49574999   \n",
       "539           Yes         No  3.8/5     74                      080 49652744   \n",
       "1803          Yes        Yes  3.9/5    402  +91 8884459955\\r\\n+91 8884495599   \n",
       "\n",
       "             location      rest_type  \\\n",
       "2093  Electronic City    Fine Dining   \n",
       "193         Jayanagar  Casual Dining   \n",
       "2136        Banaswadi  Casual Dining   \n",
       "539     Wilson Garden  Casual Dining   \n",
       "1803              HSR  Casual Dining   \n",
       "\n",
       "                                             dish_liked  \\\n",
       "2093  Pasta, Pizza, Tiramisu, Minestrone Soup, Mushr...   \n",
       "193   Veg Buffet, Pasta, Salads, Rasmalai, Chaat, Bi...   \n",
       "2136                 Naan, Sea Food, Biryani, Lime Soda   \n",
       "539                                      Friendly Staff   \n",
       "1803  Gulkand Ice Cream, Thali, Corn Paratha, Donne ...   \n",
       "\n",
       "                                              cuisines  \\\n",
       "2093                                           Italian   \n",
       "193                         North Indian, South Indian   \n",
       "2136                     North Indian, Chinese, Andhra   \n",
       "539   Continental, Chinese, North Indian, South Indian   \n",
       "1803               South Indian, Biryani, North Indian   \n",
       "\n",
       "     approx_cost(for two people) listed_in(type)  listed_in(city)  \n",
       "2093                       2,500        Dine-out  Electronic City  \n",
       "193                        1,000        Delivery     Banashankari  \n",
       "2136                         500        Delivery      Frazer Town  \n",
       "539                        1,000          Buffet     Basavanagudi  \n",
       "1803                         800        Delivery              BTM  "
      ]
     },
     "execution_count": 2,
     "metadata": {},
     "output_type": "execute_result"
    }
   ],
   "source": [
    "df = pd.read_csv('restaurent Dataset.csv')\n",
    "df.sample(5)"
   ]
  },
  {
   "cell_type": "code",
   "execution_count": null,
   "id": "2a0e3318",
   "metadata": {
    "ExecuteTime": {
     "end_time": "2022-07-28T03:18:04.774934Z",
     "start_time": "2022-07-28T03:18:04.766418Z"
    }
   },
   "outputs": [],
   "source": []
  },
  {
   "cell_type": "code",
   "execution_count": 3,
   "id": "c95d885a",
   "metadata": {
    "ExecuteTime": {
     "end_time": "2022-08-04T08:01:07.744710Z",
     "start_time": "2022-08-04T08:01:07.722461Z"
    }
   },
   "outputs": [
    {
     "name": "stdout",
     "output_type": "stream",
     "text": [
      "<class 'pandas.core.frame.DataFrame'>\n",
      "RangeIndex: 3159 entries, 0 to 3158\n",
      "Data columns (total 15 columns):\n",
      " #   Column                       Non-Null Count  Dtype \n",
      "---  ------                       --------------  ----- \n",
      " 0   url                          3159 non-null   object\n",
      " 1   address                      3159 non-null   object\n",
      " 2   name                         3159 non-null   object\n",
      " 3   online_order                 3159 non-null   object\n",
      " 4   book_table                   3159 non-null   object\n",
      " 5   rate                         3159 non-null   object\n",
      " 6   votes                        3159 non-null   int64 \n",
      " 7   phone                        3159 non-null   object\n",
      " 8   location                     3159 non-null   object\n",
      " 9   rest_type                    3159 non-null   object\n",
      " 10  dish_liked                   3159 non-null   object\n",
      " 11  cuisines                     3159 non-null   object\n",
      " 12  approx_cost(for two people)  3159 non-null   object\n",
      " 13  listed_in(type)              3159 non-null   object\n",
      " 14  listed_in(city)              3159 non-null   object\n",
      "dtypes: int64(1), object(14)\n",
      "memory usage: 370.3+ KB\n"
     ]
    }
   ],
   "source": [
    "df.info()"
   ]
  },
  {
   "cell_type": "code",
   "execution_count": 4,
   "id": "6cb47671",
   "metadata": {
    "ExecuteTime": {
     "end_time": "2022-08-04T08:01:07.901445Z",
     "start_time": "2022-08-04T08:01:07.891496Z"
    }
   },
   "outputs": [
    {
     "data": {
      "text/plain": [
       "url                            0\n",
       "address                        0\n",
       "name                           0\n",
       "online_order                   0\n",
       "book_table                     0\n",
       "rate                           0\n",
       "votes                          0\n",
       "phone                          0\n",
       "location                       0\n",
       "rest_type                      0\n",
       "dish_liked                     0\n",
       "cuisines                       0\n",
       "approx_cost(for two people)    0\n",
       "listed_in(type)                0\n",
       "listed_in(city)                0\n",
       "dtype: int64"
      ]
     },
     "execution_count": 4,
     "metadata": {},
     "output_type": "execute_result"
    }
   ],
   "source": [
    "df.isnull().sum()\n",
    "\n",
    "# no null values are present"
   ]
  },
  {
   "cell_type": "markdown",
   "id": "f4ff40c6",
   "metadata": {},
   "source": [
    "# Columns to use for recommendation"
   ]
  },
  {
   "cell_type": "markdown",
   "id": "9c1cedce",
   "metadata": {},
   "source": [
    "**rest_type:** It contains the type of restaurent.<br>\n",
    "**cuisines:** It contains the cuisines served by the restaurent.<br>\n",
    "**dish_liked:** It contains the most liked dished of restaurent by the people.<br>\n",
    "**approx_cost(for two people):** It contains the food cost for two people. "
   ]
  },
  {
   "cell_type": "markdown",
   "id": "54a5e23f",
   "metadata": {
    "ExecuteTime": {
     "end_time": "2022-07-22T04:16:27.905749Z",
     "start_time": "2022-07-22T04:16:27.892241Z"
    }
   },
   "source": [
    "# EDA on votes feature"
   ]
  },
  {
   "cell_type": "code",
   "execution_count": 5,
   "id": "c1bccbb6",
   "metadata": {
    "ExecuteTime": {
     "end_time": "2022-08-04T08:01:08.804601Z",
     "start_time": "2022-08-04T08:01:08.531677Z"
    }
   },
   "outputs": [
    {
     "data": {
      "text/plain": [
       "<AxesSubplot:xlabel='votes', ylabel='Count'>"
      ]
     },
     "execution_count": 5,
     "metadata": {},
     "output_type": "execute_result"
    },
    {
     "data": {
      "image/png": "[encoded data removed]",
      "text/plain": [
       "<Figure size 1080x720 with 1 Axes>"
      ]
     },
     "metadata": {
      "needs_background": "light"
     },
     "output_type": "display_data"
    }
   ],
   "source": [
    "plt.figure(figsize=(15,10))\n",
    "plt.xticks([i * 500 for i in range(30)], rotation=90)\n",
    "sns.histplot(data=df['votes'], kde=True, bins=30)"
   ]
  },
  {
   "cell_type": "code",
   "execution_count": 6,
   "id": "c926cdf5",
   "metadata": {
    "ExecuteTime": {
     "end_time": "2022-08-04T08:01:08.820421Z",
     "start_time": "2022-08-04T08:01:08.806593Z"
    }
   },
   "outputs": [
    {
     "name": "stdout",
     "output_type": "stream",
     "text": [
      "0th percentile:  0.0\n",
      "10th percentile:  52.0\n",
      "20th percentile:  72.0\n",
      "30th percentile:  96.0\n",
      "40th percentile:  129.0\n",
      "50th percentile:  174.0\n",
      "60th percentile:  232.0\n",
      "70th percentile:  334.5999999999999\n",
      "80th percentile:  516.8000000000002\n",
      "90th percentile:  949.2000000000003\n",
      "100th percentile:  16345.0\n"
     ]
    }
   ],
   "source": [
    "for i in range(11):\n",
    "    print(f'{10*i}th percentile:  {np.percentile(df[\"votes\"], 10*i)}')"
   ]
  },
  {
   "cell_type": "code",
   "execution_count": 7,
   "id": "24755cd6",
   "metadata": {
    "ExecuteTime": {
     "end_time": "2022-08-04T08:01:08.883440Z",
     "start_time": "2022-08-04T08:01:08.867520Z"
    }
   },
   "outputs": [
    {
     "name": "stdout",
     "output_type": "stream",
     "text": [
      "90th percentile:  949.2000000000003\n",
      "91th percentile:  1040.900000000001\n",
      "92th percentile:  1142.3600000000001\n",
      "93th percentile:  1239.7000000000003\n",
      "94th percentile:  1428.7199999999998\n",
      "95th percentile:  1704.3999999999987\n",
      "96th percentile:  1973.3599999999997\n",
      "97th percentile:  2341.5999999999976\n",
      "98th percentile:  2859.84\n",
      "99th percentile:  3918.7800000000043\n",
      "100th percentile:  16345.0\n"
     ]
    }
   ],
   "source": [
    "for i in range(11):\n",
    "    print(f'{90+i}th percentile:  {np.percentile(df[\"votes\"], 90+i)}')"
   ]
  },
  {
   "cell_type": "markdown",
   "id": "994516b0",
   "metadata": {
    "ExecuteTime": {
     "end_time": "2022-07-22T04:33:39.832241Z",
     "start_time": "2022-07-22T04:33:39.811028Z"
    }
   },
   "source": [
    "**Observation:**<br>\n",
    "-- more than 50% of restaurent have less than 250 number of votes<bR>\n",
    "-- more than 90% of restaurent have less than 1500 number of votes"
   ]
  },
  {
   "cell_type": "code",
   "execution_count": 8,
   "id": "02c6fc42",
   "metadata": {
    "ExecuteTime": {
     "end_time": "2022-08-04T08:01:09.224649Z",
     "start_time": "2022-08-04T08:01:09.208733Z"
    }
   },
   "outputs": [
    {
     "data": {
      "text/plain": [
       "0        4.1/5\n",
       "1        4.1/5\n",
       "2        3.8/5\n",
       "3        3.7/5\n",
       "4        3.8/5\n",
       "         ...  \n",
       "3154    3.0 /5\n",
       "3155    2.6 /5\n",
       "3156    2.7 /5\n",
       "3157    4.3 /5\n",
       "3158    3.8 /5\n",
       "Name: rate, Length: 3159, dtype: object"
      ]
     },
     "execution_count": 8,
     "metadata": {},
     "output_type": "execute_result"
    }
   ],
   "source": [
    "df['rate']"
   ]
  },
  {
   "cell_type": "code",
   "execution_count": 9,
   "id": "e5f3a51d",
   "metadata": {
    "ExecuteTime": {
     "end_time": "2022-08-04T08:01:09.801718Z",
     "start_time": "2022-08-04T08:01:09.379472Z"
    }
   },
   "outputs": [
    {
     "ename": "ValueError",
     "evalue": "could not convert string to float: 'NEW'",
     "output_type": "error",
     "traceback": [
      "\u001b[1;31m---------------------------------------------------------------------------\u001b[0m",
      "\u001b[1;31mValueError\u001b[0m                                Traceback (most recent call last)",
      "\u001b[1;32m~\\AppData\\Local\\Temp/ipykernel_10868/1506401695.py\u001b[0m in \u001b[0;36m<module>\u001b[1;34m\u001b[0m\n\u001b[1;32m----> 1\u001b[1;33m \u001b[0mdf\u001b[0m\u001b[1;33m[\u001b[0m\u001b[1;34m'rate'\u001b[0m\u001b[1;33m]\u001b[0m \u001b[1;33m=\u001b[0m \u001b[0mdf\u001b[0m\u001b[1;33m[\u001b[0m\u001b[1;34m'rate'\u001b[0m\u001b[1;33m]\u001b[0m\u001b[1;33m.\u001b[0m\u001b[0mapply\u001b[0m\u001b[1;33m(\u001b[0m\u001b[1;32mlambda\u001b[0m \u001b[0mx\u001b[0m\u001b[1;33m:\u001b[0m \u001b[0mfloat\u001b[0m\u001b[1;33m(\u001b[0m\u001b[0mx\u001b[0m\u001b[1;33m[\u001b[0m\u001b[1;33m:\u001b[0m\u001b[1;36m3\u001b[0m\u001b[1;33m]\u001b[0m\u001b[1;33m)\u001b[0m\u001b[1;33m)\u001b[0m\u001b[1;33m\u001b[0m\u001b[1;33m\u001b[0m\u001b[0m\n\u001b[0m\u001b[0;32m      2\u001b[0m \u001b[1;31m# so we have an unepected value 'NEW' in rating so we need to deal with that\u001b[0m\u001b[1;33m\u001b[0m\u001b[1;33m\u001b[0m\u001b[1;33m\u001b[0m\u001b[0m\n",
      "\u001b[1;32mc:\\python38\\lib\\site-packages\\pandas\\core\\series.py\u001b[0m in \u001b[0;36mapply\u001b[1;34m(self, func, convert_dtype, args, **kwargs)\u001b[0m\n\u001b[0;32m   4355\u001b[0m         \u001b[0mdtype\u001b[0m\u001b[1;33m:\u001b[0m \u001b[0mfloat64\u001b[0m\u001b[1;33m\u001b[0m\u001b[1;33m\u001b[0m\u001b[0m\n\u001b[0;32m   4356\u001b[0m         \"\"\"\n\u001b[1;32m-> 4357\u001b[1;33m         \u001b[1;32mreturn\u001b[0m \u001b[0mSeriesApply\u001b[0m\u001b[1;33m(\u001b[0m\u001b[0mself\u001b[0m\u001b[1;33m,\u001b[0m \u001b[0mfunc\u001b[0m\u001b[1;33m,\u001b[0m \u001b[0mconvert_dtype\u001b[0m\u001b[1;33m,\u001b[0m \u001b[0margs\u001b[0m\u001b[1;33m,\u001b[0m \u001b[0mkwargs\u001b[0m\u001b[1;33m)\u001b[0m\u001b[1;33m.\u001b[0m\u001b[0mapply\u001b[0m\u001b[1;33m(\u001b[0m\u001b[1;33m)\u001b[0m\u001b[1;33m\u001b[0m\u001b[1;33m\u001b[0m\u001b[0m\n\u001b[0m\u001b[0;32m   4358\u001b[0m \u001b[1;33m\u001b[0m\u001b[0m\n\u001b[0;32m   4359\u001b[0m     def _reduce(\n",
      "\u001b[1;32mc:\\python38\\lib\\site-packages\\pandas\\core\\apply.py\u001b[0m in \u001b[0;36mapply\u001b[1;34m(self)\u001b[0m\n\u001b[0;32m   1041\u001b[0m             \u001b[1;32mreturn\u001b[0m \u001b[0mself\u001b[0m\u001b[1;33m.\u001b[0m\u001b[0mapply_str\u001b[0m\u001b[1;33m(\u001b[0m\u001b[1;33m)\u001b[0m\u001b[1;33m\u001b[0m\u001b[1;33m\u001b[0m\u001b[0m\n\u001b[0;32m   1042\u001b[0m \u001b[1;33m\u001b[0m\u001b[0m\n\u001b[1;32m-> 1043\u001b[1;33m         \u001b[1;32mreturn\u001b[0m \u001b[0mself\u001b[0m\u001b[1;33m.\u001b[0m\u001b[0mapply_standard\u001b[0m\u001b[1;33m(\u001b[0m\u001b[1;33m)\u001b[0m\u001b[1;33m\u001b[0m\u001b[1;33m\u001b[0m\u001b[0m\n\u001b[0m\u001b[0;32m   1044\u001b[0m \u001b[1;33m\u001b[0m\u001b[0m\n\u001b[0;32m   1045\u001b[0m     \u001b[1;32mdef\u001b[0m \u001b[0magg\u001b[0m\u001b[1;33m(\u001b[0m\u001b[0mself\u001b[0m\u001b[1;33m)\u001b[0m\u001b[1;33m:\u001b[0m\u001b[1;33m\u001b[0m\u001b[1;33m\u001b[0m\u001b[0m\n",
      "\u001b[1;32mc:\\python38\\lib\\site-packages\\pandas\\core\\apply.py\u001b[0m in \u001b[0;36mapply_standard\u001b[1;34m(self)\u001b[0m\n\u001b[0;32m   1097\u001b[0m                 \u001b[1;31m# List[Union[Callable[..., Any], str]]]]]\"; expected\u001b[0m\u001b[1;33m\u001b[0m\u001b[1;33m\u001b[0m\u001b[1;33m\u001b[0m\u001b[0m\n\u001b[0;32m   1098\u001b[0m                 \u001b[1;31m# \"Callable[[Any], Any]\"\u001b[0m\u001b[1;33m\u001b[0m\u001b[1;33m\u001b[0m\u001b[1;33m\u001b[0m\u001b[0m\n\u001b[1;32m-> 1099\u001b[1;33m                 mapped = lib.map_infer(\n\u001b[0m\u001b[0;32m   1100\u001b[0m                     \u001b[0mvalues\u001b[0m\u001b[1;33m,\u001b[0m\u001b[1;33m\u001b[0m\u001b[1;33m\u001b[0m\u001b[0m\n\u001b[0;32m   1101\u001b[0m                     \u001b[0mf\u001b[0m\u001b[1;33m,\u001b[0m  \u001b[1;31m# type: ignore[arg-type]\u001b[0m\u001b[1;33m\u001b[0m\u001b[1;33m\u001b[0m\u001b[0m\n",
      "\u001b[1;32mc:\\python38\\lib\\site-packages\\pandas\\_libs\\lib.pyx\u001b[0m in \u001b[0;36mpandas._libs.lib.map_infer\u001b[1;34m()\u001b[0m\n",
      "\u001b[1;32m~\\AppData\\Local\\Temp/ipykernel_10868/1506401695.py\u001b[0m in \u001b[0;36m<lambda>\u001b[1;34m(x)\u001b[0m\n\u001b[1;32m----> 1\u001b[1;33m \u001b[0mdf\u001b[0m\u001b[1;33m[\u001b[0m\u001b[1;34m'rate'\u001b[0m\u001b[1;33m]\u001b[0m \u001b[1;33m=\u001b[0m \u001b[0mdf\u001b[0m\u001b[1;33m[\u001b[0m\u001b[1;34m'rate'\u001b[0m\u001b[1;33m]\u001b[0m\u001b[1;33m.\u001b[0m\u001b[0mapply\u001b[0m\u001b[1;33m(\u001b[0m\u001b[1;32mlambda\u001b[0m \u001b[0mx\u001b[0m\u001b[1;33m:\u001b[0m \u001b[0mfloat\u001b[0m\u001b[1;33m(\u001b[0m\u001b[0mx\u001b[0m\u001b[1;33m[\u001b[0m\u001b[1;33m:\u001b[0m\u001b[1;36m3\u001b[0m\u001b[1;33m]\u001b[0m\u001b[1;33m)\u001b[0m\u001b[1;33m)\u001b[0m\u001b[1;33m\u001b[0m\u001b[1;33m\u001b[0m\u001b[0m\n\u001b[0m\u001b[0;32m      2\u001b[0m \u001b[1;31m# so we have an unepected value 'NEW' in rating so we need to deal with that\u001b[0m\u001b[1;33m\u001b[0m\u001b[1;33m\u001b[0m\u001b[1;33m\u001b[0m\u001b[0m\n",
      "\u001b[1;31mValueError\u001b[0m: could not convert string to float: 'NEW'"
     ]
    }
   ],
   "source": [
    "df['rate'] = df['rate'].apply(lambda x: float(x[:3]))\n",
    "# so we have an unepected value 'NEW' in rating so we need to deal with that"
   ]
  },
  {
   "cell_type": "code",
   "execution_count": null,
   "id": "ca667648",
   "metadata": {
    "ExecuteTime": {
     "end_time": "2022-08-04T08:01:09.802712Z",
     "start_time": "2022-08-04T08:01:09.802712Z"
    }
   },
   "outputs": [],
   "source": [
    "# confirming NEW value\n",
    "df['rate'].unique()"
   ]
  },
  {
   "cell_type": "code",
   "execution_count": 10,
   "id": "390af828",
   "metadata": {
    "ExecuteTime": {
     "end_time": "2022-08-04T08:01:09.941043Z",
     "start_time": "2022-08-04T08:01:09.923204Z"
    }
   },
   "outputs": [
    {
     "data": {
      "text/plain": [
       "308     NEW\n",
       "524     NEW\n",
       "525     NEW\n",
       "530     NEW\n",
       "538     NEW\n",
       "587     NEW\n",
       "784     NEW\n",
       "988     NEW\n",
       "1567    NEW\n",
       "1696    NEW\n",
       "1698    NEW\n",
       "1955    NEW\n",
       "2083    NEW\n",
       "2086    NEW\n",
       "2133    NEW\n",
       "2163    NEW\n",
       "2231    NEW\n",
       "2317    NEW\n",
       "2328    NEW\n",
       "2394    NEW\n",
       "2507    NEW\n",
       "2593    NEW\n",
       "2640    NEW\n",
       "2644    NEW\n",
       "2661    NEW\n",
       "2684    NEW\n",
       "2928    NEW\n",
       "2969    NEW\n",
       "2970    NEW\n",
       "3025    NEW\n",
       "3061    NEW\n",
       "3068    NEW\n",
       "3072    NEW\n",
       "3113    NEW\n",
       "Name: rate, dtype: object"
      ]
     },
     "execution_count": 10,
     "metadata": {},
     "output_type": "execute_result"
    }
   ],
   "source": [
    "# counting how many 'NEW' value is present it is 147\n",
    "# we will handle this new value as missing value with Imputation\n",
    "df['rate'].loc[df['rate'] == 'NEW']"
   ]
  },
  {
   "cell_type": "code",
   "execution_count": 11,
   "id": "abbd9fa6",
   "metadata": {
    "ExecuteTime": {
     "end_time": "2022-08-04T08:01:10.160715Z",
     "start_time": "2022-08-04T08:01:10.149785Z"
    }
   },
   "outputs": [],
   "source": [
    "df['rate'].replace(to_replace='NEW', value='0.0', inplace=True)"
   ]
  },
  {
   "cell_type": "code",
   "execution_count": 12,
   "id": "5858401c",
   "metadata": {
    "ExecuteTime": {
     "end_time": "2022-08-04T08:01:10.378482Z",
     "start_time": "2022-08-04T08:01:10.372499Z"
    }
   },
   "outputs": [
    {
     "data": {
      "text/plain": [
       "array(['4.1/5', '3.8/5', '3.7/5', '4.6/5', '4.0/5', '4.2/5', '3.9/5',\n",
       "       '3.0/5', '3.6/5', '2.8/5', '4.4/5', '3.1/5', '4.3/5', '2.6/5',\n",
       "       '3.3/5', '3.5/5', '3.8 /5', '3.2/5', '4.5/5', '2.5/5', '2.9/5',\n",
       "       '3.4/5', '2.7/5', '4.7/5', '0.0', '2.4/5', '2.2/5', '2.3/5',\n",
       "       '4.8/5', '4.2 /5', '4.1 /5', '2.7 /5', '4.3 /5', '4.0 /5', '4.9/5',\n",
       "       '3.9 /5', '2.1/5', '2.0/5', '4.4 /5', '4.5 /5', '1.8/5', '4.6 /5',\n",
       "       '3.7 /5', '2.6 /5', '3.5 /5', '3.4 /5', '3.6 /5', '3.3 /5',\n",
       "       '4.7 /5', '2.8 /5', '2.9 /5', '3.1 /5', '3.0 /5', '2.3 /5',\n",
       "       '2.5 /5', '4.8 /5', '2.4 /5', '3.2 /5', '4.9 /5'], dtype=object)"
      ]
     },
     "execution_count": 12,
     "metadata": {},
     "output_type": "execute_result"
    }
   ],
   "source": [
    "df['rate'].unique()"
   ]
  },
  {
   "cell_type": "code",
   "execution_count": 13,
   "id": "150bcf16",
   "metadata": {
    "ExecuteTime": {
     "end_time": "2022-08-04T08:01:10.597146Z",
     "start_time": "2022-08-04T08:01:10.580296Z"
    }
   },
   "outputs": [],
   "source": [
    "df['rate'] = df['rate'].apply(lambda x: float(x[:3]))"
   ]
  },
  {
   "cell_type": "code",
   "execution_count": 14,
   "id": "abea79fa",
   "metadata": {
    "ExecuteTime": {
     "end_time": "2022-08-04T08:01:10.784635Z",
     "start_time": "2022-08-04T08:01:10.771670Z"
    }
   },
   "outputs": [
    {
     "data": {
      "text/plain": [
       "array([4.1, 3.8, 3.7, 4.6, 4. , 4.2, 3.9, 3. , 3.6, 2.8, 4.4, 3.1, 4.3,\n",
       "       2.6, 3.3, 3.5, 3.2, 4.5, 2.5, 2.9, 3.4, 2.7, 4.7, 0. , 2.4, 2.2,\n",
       "       2.3, 4.8, 4.9, 2.1, 2. , 1.8])"
      ]
     },
     "execution_count": 14,
     "metadata": {},
     "output_type": "execute_result"
    }
   ],
   "source": [
    "df['rate'].unique()"
   ]
  },
  {
   "cell_type": "code",
   "execution_count": 15,
   "id": "f14051af",
   "metadata": {
    "ExecuteTime": {
     "end_time": "2022-08-04T08:01:10.986697Z",
     "start_time": "2022-08-04T08:01:10.971281Z"
    }
   },
   "outputs": [
    {
     "data": {
      "text/plain": [
       "SimpleImputer(missing_values=0, strategy='median')"
      ]
     },
     "execution_count": 15,
     "metadata": {},
     "output_type": "execute_result"
    }
   ],
   "source": [
    "imp = SimpleImputer(missing_values=0, strategy='median')\n",
    "imp.fit(df['rate'].to_numpy().reshape(-1,1))"
   ]
  },
  {
   "cell_type": "code",
   "execution_count": 16,
   "id": "0ff0d13c",
   "metadata": {
    "ExecuteTime": {
     "end_time": "2022-08-04T08:01:11.173474Z",
     "start_time": "2022-08-04T08:01:11.153633Z"
    }
   },
   "outputs": [
    {
     "data": {
      "text/plain": [
       "[1.8,\n",
       " 2.0,\n",
       " 2.1,\n",
       " 2.2,\n",
       " 2.3,\n",
       " 2.4,\n",
       " 2.5,\n",
       " 2.6,\n",
       " 2.7,\n",
       " 2.8,\n",
       " 2.9,\n",
       " 3.0,\n",
       " 3.1,\n",
       " 3.2,\n",
       " 3.3,\n",
       " 3.4,\n",
       " 3.5,\n",
       " 3.6,\n",
       " 3.7,\n",
       " 3.8,\n",
       " 3.9,\n",
       " 4.0,\n",
       " 4.1,\n",
       " 4.2,\n",
       " 4.3,\n",
       " 4.4,\n",
       " 4.5,\n",
       " 4.6,\n",
       " 4.7,\n",
       " 4.8,\n",
       " 4.9]"
      ]
     },
     "execution_count": 16,
     "metadata": {},
     "output_type": "execute_result"
    }
   ],
   "source": [
    "df['rate'] = pd.Series(imp.transform(df['rate'].to_numpy().reshape(-1,1)).flatten())\n",
    "sorted(df['rate'].unique())"
   ]
  },
  {
   "cell_type": "code",
   "execution_count": 17,
   "id": "bacf39d2",
   "metadata": {
    "ExecuteTime": {
     "end_time": "2022-08-04T08:01:11.360345Z",
     "start_time": "2022-08-04T08:01:11.344387Z"
    }
   },
   "outputs": [
    {
     "data": {
      "text/plain": [
       "count    3159.000000\n",
       "mean        3.854669\n",
       "std         0.417534\n",
       "min         1.800000\n",
       "25%         3.700000\n",
       "50%         3.900000\n",
       "75%         4.100000\n",
       "max         4.900000\n",
       "Name: rate, dtype: float64"
      ]
     },
     "execution_count": 17,
     "metadata": {},
     "output_type": "execute_result"
    }
   ],
   "source": [
    "df['rate'].describe()"
   ]
  },
  {
   "cell_type": "code",
   "execution_count": 18,
   "id": "fd29bb41",
   "metadata": {
    "ExecuteTime": {
     "end_time": "2022-08-04T08:01:11.654470Z",
     "start_time": "2022-08-04T08:01:11.529954Z"
    }
   },
   "outputs": [
    {
     "data": {
      "text/plain": [
       "<AxesSubplot:xlabel='rate', ylabel='Density'>"
      ]
     },
     "execution_count": 18,
     "metadata": {},
     "output_type": "execute_result"
    },
    {
     "data": {
      "image/png": "[encoded data removed]",
      "text/plain": [
       "<Figure size 432x288 with 1 Axes>"
      ]
     },
     "metadata": {
      "needs_background": "light"
     },
     "output_type": "display_data"
    }
   ],
   "source": [
    "sns.kdeplot(df['rate'])"
   ]
  },
  {
   "cell_type": "markdown",
   "id": "3bf39f2f",
   "metadata": {},
   "source": [
    "**observation:-**<br>\n",
    "-- Most common rating is between 3.5 and 4.5 "
   ]
  },
  {
   "cell_type": "code",
   "execution_count": 19,
   "id": "aab88470",
   "metadata": {
    "ExecuteTime": {
     "end_time": "2022-08-04T08:01:11.903773Z",
     "start_time": "2022-08-04T08:01:11.885389Z"
    }
   },
   "outputs": [],
   "source": [
    "def str_to_num(str_num):\n",
    "    \n",
    "    temp = \"\"\n",
    "    for i in str_num:\n",
    "        if i.isnumeric() == True:\n",
    "            temp = temp + i\n",
    "            \n",
    "    return int(temp)"
   ]
  },
  {
   "cell_type": "code",
   "execution_count": 20,
   "id": "35b3c1cb",
   "metadata": {
    "ExecuteTime": {
     "end_time": "2022-08-04T08:01:12.074838Z",
     "start_time": "2022-08-04T08:01:12.060021Z"
    }
   },
   "outputs": [
    {
     "data": {
      "text/plain": [
       "10000"
      ]
     },
     "execution_count": 20,
     "metadata": {},
     "output_type": "execute_result"
    }
   ],
   "source": [
    "str_to_num('10,abc000')"
   ]
  },
  {
   "cell_type": "code",
   "execution_count": 21,
   "id": "eec34bd0",
   "metadata": {
    "ExecuteTime": {
     "end_time": "2022-08-04T08:01:12.274392Z",
     "start_time": "2022-08-04T08:01:12.259095Z"
    }
   },
   "outputs": [
    {
     "data": {
      "text/plain": [
       "0         800\n",
       "1         800\n",
       "2         800\n",
       "3         300\n",
       "4         600\n",
       "        ...  \n",
       "3154      600\n",
       "3155      500\n",
       "3156      400\n",
       "3157    2,500\n",
       "3158      600\n",
       "Name: approx_cost(for two people), Length: 3159, dtype: object"
      ]
     },
     "execution_count": 21,
     "metadata": {},
     "output_type": "execute_result"
    }
   ],
   "source": [
    "df['approx_cost(for two people)']"
   ]
  },
  {
   "cell_type": "code",
   "execution_count": 22,
   "id": "23f6f357",
   "metadata": {
    "ExecuteTime": {
     "end_time": "2022-08-04T08:01:12.463474Z",
     "start_time": "2022-08-04T08:01:12.442528Z"
    }
   },
   "outputs": [
    {
     "data": {
      "text/plain": [
       "0        800\n",
       "1        800\n",
       "2        800\n",
       "3        300\n",
       "4        600\n",
       "        ... \n",
       "3154     600\n",
       "3155     500\n",
       "3156     400\n",
       "3157    2500\n",
       "3158     600\n",
       "Name: approx_cost(for two people), Length: 3159, dtype: int64"
      ]
     },
     "execution_count": 22,
     "metadata": {},
     "output_type": "execute_result"
    }
   ],
   "source": [
    "df['approx_cost(for two people)'] = df['approx_cost(for two people)'].apply(str_to_num)\n",
    "\n",
    "df['approx_cost(for two people)']"
   ]
  },
  {
   "cell_type": "code",
   "execution_count": 23,
   "id": "b68ef1f2",
   "metadata": {
    "ExecuteTime": {
     "end_time": "2022-08-04T08:01:12.762279Z",
     "start_time": "2022-08-04T08:01:12.634363Z"
    }
   },
   "outputs": [
    {
     "data": {
      "text/plain": [
       "<AxesSubplot:xlabel='approx_cost(for two people)', ylabel='Density'>"
      ]
     },
     "execution_count": 23,
     "metadata": {},
     "output_type": "execute_result"
    },
    {
     "data": {
      "image/png": "[encoded data removed]",
      "text/plain": [
       "<Figure size 432x288 with 1 Axes>"
      ]
     },
     "metadata": {
      "needs_background": "light"
     },
     "output_type": "display_data"
    }
   ],
   "source": [
    "sns.kdeplot(df['approx_cost(for two people)'])"
   ]
  },
  {
   "cell_type": "markdown",
   "id": "2dbd9dff",
   "metadata": {},
   "source": [
    "# feaaturization"
   ]
  },
  {
   "cell_type": "code",
   "execution_count": 24,
   "id": "e45fee8f",
   "metadata": {
    "ExecuteTime": {
     "end_time": "2022-08-04T08:01:13.011462Z",
     "start_time": "2022-08-04T08:01:13.007468Z"
    }
   },
   "outputs": [],
   "source": [
    "def pre_processing(text):\n",
    "    \n",
    "    \n",
    "    text_lst = text.split(',')\n",
    "    \n",
    "    temp = []\n",
    "    for i in text_lst:\n",
    "        \n",
    "        i = i.strip()\n",
    "        i = i.replace(' ','_')\n",
    "        temp.append(i)\n",
    "    \n",
    "    return ' '.join(temp)"
   ]
  },
  {
   "cell_type": "code",
   "execution_count": null,
   "id": "158f9b7d",
   "metadata": {},
   "outputs": [],
   "source": []
  },
  {
   "cell_type": "code",
   "execution_count": 25,
   "id": "741d66a2",
   "metadata": {
    "ExecuteTime": {
     "end_time": "2022-08-04T08:01:13.403535Z",
     "start_time": "2022-08-04T08:01:13.387006Z"
    }
   },
   "outputs": [
    {
     "data": {
      "text/plain": [
       "array(['Casual Dining', 'Cafe, Casual Dining', 'Quick Bites',\n",
       "       'Casual Dining, Cafe', 'Cafe', 'Quick Bites, Cafe', 'Delivery',\n",
       "       'Dessert Parlor', 'Pub', 'Beverage Shop', 'Bar',\n",
       "       'Takeaway, Delivery', 'Food Truck', 'Quick Bites, Dessert Parlor',\n",
       "       'Pub, Casual Dining', 'Casual Dining, Bar', 'Bakery', 'Sweet Shop',\n",
       "       'Dessert Parlor, Beverage Shop', 'Beverage Shop, Quick Bites',\n",
       "       'Microbrewery, Casual Dining', 'Sweet Shop, Quick Bites', 'Lounge',\n",
       "       'Food Court', 'Cafe, Bakery', 'Microbrewery', 'Kiosk', 'Pub, Bar',\n",
       "       'Casual Dining, Pub', 'Cafe, Quick Bites', 'Lounge, Bar',\n",
       "       'Bakery, Quick Bites', 'Dessert Parlor, Quick Bites',\n",
       "       'Bar, Casual Dining', 'Beverage Shop, Dessert Parlor',\n",
       "       'Casual Dining, Microbrewery', 'Mess', 'Lounge, Casual Dining',\n",
       "       'Cafe, Dessert Parlor', 'Dessert Parlor, Cafe',\n",
       "       'Bakery, Dessert Parlor', 'Takeaway', 'Microbrewery, Pub', 'Club',\n",
       "       'Fine Dining', 'Bakery, Cafe', 'Beverage Shop, Cafe', 'Pub, Cafe',\n",
       "       'Casual Dining, Irani Cafee', 'Quick Bites, Beverage Shop',\n",
       "       'Fine Dining, Lounge', 'Quick Bites, Sweet Shop',\n",
       "       'Quick Bites, Bakery', 'Bar, Quick Bites', 'Pub, Microbrewery',\n",
       "       'Microbrewery, Lounge', 'Fine Dining, Microbrewery',\n",
       "       'Fine Dining, Bar', 'Cafe, Bar', 'Casual Dining, Lounge',\n",
       "       'Microbrewery, Bar', 'Food Court, Quick Bites', 'Cafe, Lounge',\n",
       "       'Bar, Pub', 'Lounge, Cafe', 'Dessert Parlor, Bakery',\n",
       "       'Club, Casual Dining', 'Lounge, Microbrewery', 'Bar, Lounge',\n",
       "       'Food Court, Casual Dining'], dtype=object)"
      ]
     },
     "execution_count": 25,
     "metadata": {},
     "output_type": "execute_result"
    }
   ],
   "source": [
    "df['rest_type'].unique()"
   ]
  },
  {
   "cell_type": "markdown",
   "id": "4c037b59",
   "metadata": {},
   "source": [
    "# processing rest_type feature for featurization"
   ]
  },
  {
   "cell_type": "code",
   "execution_count": 26,
   "id": "610a276f",
   "metadata": {
    "ExecuteTime": {
     "end_time": "2022-08-04T08:01:13.791493Z",
     "start_time": "2022-08-04T08:01:13.780290Z"
    }
   },
   "outputs": [],
   "source": [
    "df['rest_type'] = df['rest_type'].apply(pre_processing)"
   ]
  },
  {
   "cell_type": "code",
   "execution_count": 27,
   "id": "8a691358",
   "metadata": {
    "ExecuteTime": {
     "end_time": "2022-08-04T08:01:13.994470Z",
     "start_time": "2022-08-04T08:01:13.980605Z"
    }
   },
   "outputs": [
    {
     "data": {
      "text/plain": [
       "187     Dessert_Parlor Beverage_Shop\n",
       "1233               Pub Casual_Dining\n",
       "552                             Cafe\n",
       "229                      Quick_Bites\n",
       "1839                   Casual_Dining\n",
       "2757                     Quick_Bites\n",
       "1518                     Quick_Bites\n",
       "2739                            Cafe\n",
       "2555                   Casual_Dining\n",
       "1977                            Cafe\n",
       "408                            Kiosk\n",
       "1740                     Quick_Bites\n",
       "1318               Casual_Dining Bar\n",
       "186                      Quick_Bites\n",
       "1589                            Cafe\n",
       "11                              Cafe\n",
       "2183                   Casual_Dining\n",
       "2067                   Casual_Dining\n",
       "297                      Quick_Bites\n",
       "2038                     Quick_Bites\n",
       "Name: rest_type, dtype: object"
      ]
     },
     "execution_count": 27,
     "metadata": {},
     "output_type": "execute_result"
    }
   ],
   "source": [
    "df['rest_type'].sample(20)"
   ]
  },
  {
   "cell_type": "code",
   "execution_count": null,
   "id": "b3b9f30c",
   "metadata": {},
   "outputs": [],
   "source": []
  },
  {
   "cell_type": "code",
   "execution_count": null,
   "id": "87e382b3",
   "metadata": {},
   "outputs": [],
   "source": []
  },
  {
   "cell_type": "markdown",
   "id": "a7103af5",
   "metadata": {},
   "source": [
    "# processing cuisines feature for featurization"
   ]
  },
  {
   "cell_type": "code",
   "execution_count": 28,
   "id": "23f8224b",
   "metadata": {
    "ExecuteTime": {
     "end_time": "2022-08-04T08:01:14.757905Z",
     "start_time": "2022-08-04T08:01:14.743331Z"
    }
   },
   "outputs": [],
   "source": [
    "df['cuisines'] = df['cuisines'].apply(pre_processing)"
   ]
  },
  {
   "cell_type": "code",
   "execution_count": 29,
   "id": "a57c51af",
   "metadata": {
    "ExecuteTime": {
     "end_time": "2022-08-04T08:01:14.928225Z",
     "start_time": "2022-08-04T08:01:14.922241Z"
    }
   },
   "outputs": [
    {
     "data": {
      "text/plain": [
       "332                                  North_Indian Chinese\n",
       "1760                         North_Indian Arabian Chinese\n",
       "1723          North_Indian South_Indian Chinese Fast_Food\n",
       "1450                                         North_Indian\n",
       "1679                                                 Cafe\n",
       "1523                      Fast_Food Sandwich South_Indian\n",
       "1722         North_Indian Fast_Food Street_Food Beverages\n",
       "2680                         European Mediterranean Salad\n",
       "1576                                 North_Indian Chinese\n",
       "791            North_Indian Street_Food Chinese Fast_Food\n",
       "2338                                      Desserts Bakery\n",
       "424                                              Desserts\n",
       "2398           Continental Salad Burger Finger_Food Pizza\n",
       "1942                                            Beverages\n",
       "2492                          Andhra Chinese North_Indian\n",
       "134                 Street_Food North_Indian South_Indian\n",
       "1313                      North_Indian South_Indian Asian\n",
       "1200                                Chinese Tibetan Momos\n",
       "2982    Asian Continental European North_Indian Medite...\n",
       "181                                    Mithai Street_Food\n",
       "Name: cuisines, dtype: object"
      ]
     },
     "execution_count": 29,
     "metadata": {},
     "output_type": "execute_result"
    }
   ],
   "source": [
    "df['cuisines'].sample(20)"
   ]
  },
  {
   "cell_type": "code",
   "execution_count": null,
   "id": "448e70d9",
   "metadata": {},
   "outputs": [],
   "source": []
  },
  {
   "cell_type": "code",
   "execution_count": null,
   "id": "e1aa0c06",
   "metadata": {},
   "outputs": [],
   "source": []
  },
  {
   "cell_type": "markdown",
   "id": "7ad347e0",
   "metadata": {},
   "source": [
    "# processing dish_liked feature for featurization"
   ]
  },
  {
   "cell_type": "code",
   "execution_count": 30,
   "id": "b9e3fd14",
   "metadata": {
    "ExecuteTime": {
     "end_time": "2022-08-04T08:01:15.659719Z",
     "start_time": "2022-08-04T08:01:15.638543Z"
    }
   },
   "outputs": [],
   "source": [
    "df['dish_liked'] = df['dish_liked'].apply(pre_processing)"
   ]
  },
  {
   "cell_type": "code",
   "execution_count": 31,
   "id": "58d67457",
   "metadata": {
    "ExecuteTime": {
     "end_time": "2022-08-04T08:01:15.847893Z",
     "start_time": "2022-08-04T08:01:15.831323Z"
    }
   },
   "outputs": [
    {
     "data": {
      "text/plain": [
       "1830    Noodles Rice_Paper_Rolls Prawn_Dumplings Veget...\n",
       "2531        Chilli_Chicken Chicken_Tikka Butter_Naan Roti\n",
       "1772    Chaach Bhindi_Anardana Thandai Jal-jeera Lunch...\n",
       "975     Peri_Peri_Chicken Peri_Peri_Fries Peri_Peri_Dr...\n",
       "2793    Fries Sandwich Paan_Shake Pasta Sandwiches Noo...\n",
       "2770    Dhokla Tea Lassi Tiranga_Paratha Sandwich Pizz...\n",
       "1561    Noodles Chicken_Dim_Sum Pad_Thai_Noodle Jumbo_...\n",
       "2607    Ramen Kimchi Beef_Bulgogi Egg_Soup Salad Clear...\n",
       "982                    Chicken_Biryani Lemon_Chicken_Roll\n",
       "2600        Appam Roast_Chicken Duck_Roast Vegetable_Stew\n",
       "812     Cocktails Noodles Chips Shephards_Pie Lamb Piz...\n",
       "887     Veg_Thali Dahi_Vada Malpua Rajasthani_Thali Ra...\n",
       "2173                                     Sandwich Burgers\n",
       "756                                                 Thali\n",
       "2473    Coffee Caramel_Macchiato Cappuccino Cafe_Mocha...\n",
       "320     Chicken_Grill Garlic_Bread Mocktails Burgers F...\n",
       "2269    Dark_Chocolate_Shake Cappuccino Pancakes Hot_C...\n",
       "1530    Masala_Chaach Dal_Makhani Pasta Wood_Fire_Pizz...\n",
       "995     Pancakes Cocktails Biryani Draught_Beer Long_I...\n",
       "2426                                               Coffee\n",
       "Name: dish_liked, dtype: object"
      ]
     },
     "execution_count": 31,
     "metadata": {},
     "output_type": "execute_result"
    }
   ],
   "source": [
    "df['dish_liked'].sample(20)"
   ]
  },
  {
   "cell_type": "code",
   "execution_count": null,
   "id": "03b1bb09",
   "metadata": {},
   "outputs": [],
   "source": []
  },
  {
   "cell_type": "code",
   "execution_count": null,
   "id": "ba84df0d",
   "metadata": {},
   "outputs": [],
   "source": []
  },
  {
   "cell_type": "code",
   "execution_count": 32,
   "id": "0cc143bb",
   "metadata": {
    "ExecuteTime": {
     "end_time": "2022-08-04T08:01:16.412507Z",
     "start_time": "2022-08-04T08:01:16.398606Z"
    }
   },
   "outputs": [],
   "source": [
    "bow_model = CountVectorizer()"
   ]
  },
  {
   "cell_type": "markdown",
   "id": "b77ce1c1",
   "metadata": {},
   "source": [
    "# featurizing the rest_type feature using BOW"
   ]
  },
  {
   "cell_type": "code",
   "execution_count": 33,
   "id": "0d48a026",
   "metadata": {
    "ExecuteTime": {
     "end_time": "2022-08-04T08:01:16.805376Z",
     "start_time": "2022-08-04T08:01:16.782565Z"
    }
   },
   "outputs": [
    {
     "data": {
      "text/plain": [
       "CountVectorizer()"
      ]
     },
     "execution_count": 33,
     "metadata": {},
     "output_type": "execute_result"
    }
   ],
   "source": [
    "bow_model.fit(df['rest_type'])"
   ]
  },
  {
   "cell_type": "code",
   "execution_count": 34,
   "id": "9c892da6",
   "metadata": {
    "ExecuteTime": {
     "end_time": "2022-08-04T08:01:16.991281Z",
     "start_time": "2022-08-04T08:01:16.979312Z"
    }
   },
   "outputs": [
    {
     "data": {
      "text/plain": [
       "{'casual_dining': 4,\n",
       " 'cafe': 3,\n",
       " 'quick_bites': 17,\n",
       " 'delivery': 6,\n",
       " 'dessert_parlor': 7,\n",
       " 'pub': 16,\n",
       " 'beverage_shop': 2,\n",
       " 'bar': 1,\n",
       " 'takeaway': 19,\n",
       " 'food_truck': 10,\n",
       " 'bakery': 0,\n",
       " 'sweet_shop': 18,\n",
       " 'microbrewery': 15,\n",
       " 'lounge': 13,\n",
       " 'food_court': 9,\n",
       " 'kiosk': 12,\n",
       " 'mess': 14,\n",
       " 'club': 5,\n",
       " 'fine_dining': 8,\n",
       " 'irani_cafee': 11}"
      ]
     },
     "execution_count": 34,
     "metadata": {},
     "output_type": "execute_result"
    }
   ],
   "source": [
    "bow_model.vocabulary_"
   ]
  },
  {
   "cell_type": "code",
   "execution_count": 35,
   "id": "cda0b30a",
   "metadata": {
    "ExecuteTime": {
     "end_time": "2022-08-04T08:01:17.194947Z",
     "start_time": "2022-08-04T08:01:17.173057Z"
    }
   },
   "outputs": [],
   "source": [
    "bow_vec_rest_type = bow_model.transform(df['rest_type'])"
   ]
  },
  {
   "cell_type": "code",
   "execution_count": 36,
   "id": "aae5f709",
   "metadata": {
    "ExecuteTime": {
     "end_time": "2022-08-04T08:01:17.379015Z",
     "start_time": "2022-08-04T08:01:17.364578Z"
    }
   },
   "outputs": [
    {
     "name": "stdout",
     "output_type": "stream",
     "text": [
      "  (0, 4)\t1\n"
     ]
    }
   ],
   "source": [
    "print(bow_vec_rest_type[0])"
   ]
  },
  {
   "cell_type": "code",
   "execution_count": null,
   "id": "8c0ee152",
   "metadata": {},
   "outputs": [],
   "source": []
  },
  {
   "cell_type": "code",
   "execution_count": null,
   "id": "6da2fa81",
   "metadata": {},
   "outputs": [],
   "source": []
  },
  {
   "cell_type": "markdown",
   "id": "f0199898",
   "metadata": {},
   "source": [
    "# featurizing the cuisines feature using BOW"
   ]
  },
  {
   "cell_type": "code",
   "execution_count": 37,
   "id": "2ffb4ec2",
   "metadata": {
    "ExecuteTime": {
     "end_time": "2022-08-04T08:01:18.144140Z",
     "start_time": "2022-08-04T08:01:18.119340Z"
    }
   },
   "outputs": [
    {
     "data": {
      "text/plain": [
       "CountVectorizer()"
      ]
     },
     "execution_count": 37,
     "metadata": {},
     "output_type": "execute_result"
    }
   ],
   "source": [
    "bow_model.fit(df['cuisines'])"
   ]
  },
  {
   "cell_type": "code",
   "execution_count": 38,
   "id": "466acc59",
   "metadata": {
    "ExecuteTime": {
     "end_time": "2022-08-04T08:01:18.316524Z",
     "start_time": "2022-08-04T08:01:18.305547Z"
    },
    "scrolled": true
   },
   "outputs": [
    {
     "data": {
      "text/plain": [
       "{'north_indian': 69,\n",
       " 'mughlai': 65,\n",
       " 'chinese': 26,\n",
       " 'thai': 93,\n",
       " 'cafe': 22,\n",
       " 'mexican': 60,\n",
       " 'italian': 44,\n",
       " 'south_indian': 85,\n",
       " 'rajasthani': 75,\n",
       " 'pizza': 73,\n",
       " 'continental': 28,\n",
       " 'momos': 64,\n",
       " 'beverages': 14,\n",
       " 'fast_food': 31,\n",
       " 'american': 3,\n",
       " 'french': 33,\n",
       " 'european': 30,\n",
       " 'burger': 20,\n",
       " 'biryani': 16,\n",
       " 'street_food': 89,\n",
       " 'rolls': 77,\n",
       " 'ice_cream': 41,\n",
       " 'desserts': 29,\n",
       " 'andhra': 4,\n",
       " 'healthy_food': 39,\n",
       " 'salad': 79,\n",
       " 'asian': 6,\n",
       " 'korean': 52,\n",
       " 'indonesian': 42,\n",
       " 'japanese': 45,\n",
       " 'goan': 35,\n",
       " 'seafood': 81,\n",
       " 'kebab': 49,\n",
       " 'steak': 88,\n",
       " 'sandwich': 80,\n",
       " 'bakery': 9,\n",
       " 'vietnamese': 97,\n",
       " 'juices': 47,\n",
       " 'arabian': 5,\n",
       " 'bbq': 11,\n",
       " 'mangalorean': 57,\n",
       " 'tea': 91,\n",
       " 'afghani': 1,\n",
       " 'finger_food': 32,\n",
       " 'tibetan': 94,\n",
       " 'mithai': 62,\n",
       " 'middle_eastern': 61,\n",
       " 'mediterranean': 58,\n",
       " 'bengali': 13,\n",
       " 'charcoal_chicken': 24,\n",
       " 'kerala': 50,\n",
       " 'oriya': 70,\n",
       " 'bihari': 15,\n",
       " 'roast_chicken': 76,\n",
       " 'bohri': 17,\n",
       " 'african': 2,\n",
       " 'lebanese': 53,\n",
       " 'hyderabadi': 40,\n",
       " 'belgian': 12,\n",
       " 'south_american': 84,\n",
       " 'maharashtrian': 55,\n",
       " 'konkan': 51,\n",
       " 'chettinad': 25,\n",
       " 'wraps': 98,\n",
       " 'turkish': 95,\n",
       " 'iranian': 43,\n",
       " 'lucknowi': 54,\n",
       " 'gujarati': 38,\n",
       " 'tex': 92,\n",
       " 'mex': 59,\n",
       " 'modern_indian': 63,\n",
       " 'spanish': 86,\n",
       " 'malaysian': 56,\n",
       " 'burmese': 21,\n",
       " 'coffee': 27,\n",
       " 'portuguese': 74,\n",
       " 'parsi': 72,\n",
       " 'nepalese': 67,\n",
       " 'greek': 36,\n",
       " 'north_eastern': 68,\n",
       " 'bar_food': 10,\n",
       " 'singaporean': 83,\n",
       " 'awadhi': 8,\n",
       " 'afghan': 0,\n",
       " 'naga': 66,\n",
       " 'cantonese': 23,\n",
       " 'sushi': 90,\n",
       " 'bubble_tea': 19,\n",
       " 'kashmiri': 48,\n",
       " 'assamese': 7,\n",
       " 'sri_lankan': 87,\n",
       " 'grill': 37,\n",
       " 'british': 18,\n",
       " 'pan_asian': 71,\n",
       " 'german': 34,\n",
       " 'russian': 78,\n",
       " 'jewish': 46,\n",
       " 'vegan': 96,\n",
       " 'sindhi': 82}"
      ]
     },
     "execution_count": 38,
     "metadata": {},
     "output_type": "execute_result"
    }
   ],
   "source": [
    "bow_model.vocabulary_"
   ]
  },
  {
   "cell_type": "code",
   "execution_count": 39,
   "id": "95e6ee30",
   "metadata": {
    "ExecuteTime": {
     "end_time": "2022-08-04T08:01:18.520140Z",
     "start_time": "2022-08-04T08:01:18.490725Z"
    }
   },
   "outputs": [],
   "source": [
    "bow_vec_cusines = bow_model.transform(df['cuisines'])"
   ]
  },
  {
   "cell_type": "code",
   "execution_count": 40,
   "id": "0ea89425",
   "metadata": {
    "ExecuteTime": {
     "end_time": "2022-08-04T08:01:18.693528Z",
     "start_time": "2022-08-04T08:01:18.686545Z"
    }
   },
   "outputs": [
    {
     "name": "stdout",
     "output_type": "stream",
     "text": [
      "  (0, 26)\t1\n",
      "  (0, 65)\t1\n",
      "  (0, 69)\t1\n"
     ]
    }
   ],
   "source": [
    "print(bow_vec_cusines[0])"
   ]
  },
  {
   "cell_type": "code",
   "execution_count": null,
   "id": "e8b97f3f",
   "metadata": {},
   "outputs": [],
   "source": []
  },
  {
   "cell_type": "code",
   "execution_count": null,
   "id": "11a46837",
   "metadata": {},
   "outputs": [],
   "source": []
  },
  {
   "cell_type": "code",
   "execution_count": null,
   "id": "6fe8c893",
   "metadata": {},
   "outputs": [],
   "source": []
  },
  {
   "cell_type": "markdown",
   "id": "afd4ecee",
   "metadata": {},
   "source": [
    "# featurizing the dish_liked feature using BOW"
   ]
  },
  {
   "cell_type": "code",
   "execution_count": 41,
   "id": "3c09d772",
   "metadata": {
    "ExecuteTime": {
     "end_time": "2022-08-04T08:01:20.071798Z",
     "start_time": "2022-08-04T08:01:20.042312Z"
    }
   },
   "outputs": [
    {
     "data": {
      "text/plain": [
       "CountVectorizer()"
      ]
     },
     "execution_count": 41,
     "metadata": {},
     "output_type": "execute_result"
    }
   ],
   "source": [
    "bow_model.fit(df['dish_liked'])\n",
    "\n"
   ]
  },
  {
   "cell_type": "code",
   "execution_count": 42,
   "id": "de66743f",
   "metadata": {
    "ExecuteTime": {
     "end_time": "2022-08-04T08:01:20.243478Z",
     "start_time": "2022-08-04T08:01:20.216559Z"
    }
   },
   "outputs": [
    {
     "data": {
      "text/plain": [
       "{'pasta': 1614,\n",
       " 'lunch_buffet': 1229,\n",
       " 'masala_papad': 1298,\n",
       " 'paneer_lajawab': 1573,\n",
       " 'tomato_shorba': 2125,\n",
       " 'dum_biryani': 802,\n",
       " 'sweet_corn_soup': 2022,\n",
       " 'momos': 1376,\n",
       " 'chocolate_nirvana': 592,\n",
       " 'thai_green_curry': 2090,\n",
       " 'paneer_tikka': 1597,\n",
       " 'chicken_biryani': 387,\n",
       " 'churros': 625,\n",
       " 'cannelloni': 307,\n",
       " 'minestrone_soup': 1342,\n",
       " 'hot_chocolate': 1017,\n",
       " 'pink_sauce_pasta': 1686,\n",
       " 'salsa': 1872,\n",
       " 'veg_supreme_pizza': 2181,\n",
       " 'masala_dosa': 1288,\n",
       " 'panipuri': 1604,\n",
       " 'gol_gappe': 966,\n",
       " 'onion_rings': 1513,\n",
       " 'kadhai_paneer': 1096,\n",
       " 'salads': 1867,\n",
       " 'salad': 1866,\n",
       " 'roti': 1849,\n",
       " 'jeera_rice': 1075,\n",
       " 'farmhouse_pizza': 860,\n",
       " 'chocolate_banana': 560,\n",
       " 'virgin_mojito': 2204,\n",
       " 'lime_soda': 1217,\n",
       " 'prawn_pizza': 1754,\n",
       " 'pizza': 1690,\n",
       " 'mocktails': 1371,\n",
       " 'coffee': 647,\n",
       " 'nachos': 1477,\n",
       " 'sandwiches': 1884,\n",
       " 'waffles': 2208,\n",
       " 'coleslaw_sandwich': 654,\n",
       " 'choco_waffle': 556,\n",
       " 'tacos': 2040,\n",
       " 'cheese_nachos': 354,\n",
       " 'crispy_chicken': 698,\n",
       " 'honey_chilli_chicken': 1013,\n",
       " 'sandwich': 1883,\n",
       " 'crepe': 695,\n",
       " 'peri_fries': 1648,\n",
       " 'lasagne': 1195,\n",
       " 'chicken_bbq_wings': 385,\n",
       " 'spaghetti': 1957,\n",
       " 'pancakes': 1553,\n",
       " 'garlic_bread': 929,\n",
       " 'omelette': 1507,\n",
       " 'ice_tea': 1043,\n",
       " 'pasta_arrabiata': 1616,\n",
       " 'hazelnut_cappuccino': 1002,\n",
       " 'burgers': 270,\n",
       " 'hot_chocolate_fudge': 1019,\n",
       " 'potato_wedges': 1740,\n",
       " 'mushroom_bruschettas': 1405,\n",
       " 'jalapeno_cheeseballs': 1065,\n",
       " 'red_velvet_shake': 1819,\n",
       " 'red_velvet_milkshake': 1818,\n",
       " 'maggi': 1236,\n",
       " 'gelato': 939,\n",
       " 'mojito': 1372,\n",
       " 'paneer_pizza': 1588,\n",
       " 'cheese_maggi': 349,\n",
       " 'peri_peri_fries': 1660,\n",
       " 'caramel_milkshake': 319,\n",
       " 'iced_coffee': 1045,\n",
       " 'iced_tea': 1046,\n",
       " 'paratha': 1612,\n",
       " 'chilli_idli': 532,\n",
       " 'noodles': 1496,\n",
       " 'fries': 902,\n",
       " 'anjeer_ice_cream': 58,\n",
       " 'kesar_badam': 1133,\n",
       " 'lassi': 1196,\n",
       " 'chicken_grill': 426,\n",
       " 'naan': 1476,\n",
       " 'chicken_burger': 392,\n",
       " 'biryani': 213,\n",
       " 'thin_crust_pizza': 2104,\n",
       " 'falafel': 851,\n",
       " 'veggie_pizza': 2196,\n",
       " 'rolls': 1844,\n",
       " 'veggie_wrap': 2198,\n",
       " 'chocolate_fantasy': 576,\n",
       " 'rice_bowls': 1826,\n",
       " 'chicken_rice': 479,\n",
       " 'paneer_makhanwala': 1576,\n",
       " 'chicken_tikka_wrap': 518,\n",
       " 'raita': 1793,\n",
       " 'gulab_jamun': 986,\n",
       " 'paneer_biryani': 1560,\n",
       " 'vegetable_biryani': 2187,\n",
       " 'gosht_dum_biryani': 973,\n",
       " 'murgh_biryani': 1394,\n",
       " 'veg_manchow_soup': 2166,\n",
       " 'kung_pao_chicken': 1175,\n",
       " 'chicken_lollipop': 448,\n",
       " 'chop_suey': 618,\n",
       " 'dragon_chicken': 789,\n",
       " 'chicken_tikka_masala': 515,\n",
       " 'mutton_keema_dosa': 1445,\n",
       " 'mutton_biryani': 1429,\n",
       " 'raan_biryani': 1786,\n",
       " 'brain_fry': 232,\n",
       " 'ghee_rice': 949,\n",
       " 'dabeli': 734,\n",
       " 'faluda': 858,\n",
       " 'masala_poori': 1303,\n",
       " 'tokri_chaat': 2116,\n",
       " 'pav_bhaji': 1624,\n",
       " 'dahipuri': 744,\n",
       " 'pane_pizza': 1556,\n",
       " 'lava_cake': 1198,\n",
       " 'stuffed_garlic_bread': 2002,\n",
       " 'chocolava_cake': 614,\n",
       " 'prompt_service': 1759,\n",
       " 'butter_chicken': 275,\n",
       " 'thali': 2098,\n",
       " 'hakka_noodles': 992,\n",
       " 'chowmein': 620,\n",
       " 'chilli_garlic_noodles': 531,\n",
       " 'garlic_rice': 937,\n",
       " 'vanilla_ice_cream': 2147,\n",
       " 'fudge_cake': 920,\n",
       " 'chocolate_mousse': 588,\n",
       " 'prawn_biryani': 1744,\n",
       " 'chicken_boneless_biryani': 388,\n",
       " 'afghani_biryani': 7,\n",
       " 'mughlai_biryani': 1387,\n",
       " 'paneer_tikka_biryani': 1598,\n",
       " 'gongura_biryani': 970,\n",
       " 'chicken_roll': 480,\n",
       " 'chilli_chicken': 530,\n",
       " 'paneer_roll': 1591,\n",
       " 'thai_rice': 2093,\n",
       " 'sushi': 2017,\n",
       " 'wine': 2231,\n",
       " 'khau_suey': 1146,\n",
       " 'yakisoba': 2240,\n",
       " 'spring_roll': 1980,\n",
       " 'pepper_pizza': 1641,\n",
       " 'peppy_paneer': 1645,\n",
       " 'supreme_pizza': 2016,\n",
       " 'manchow_soup': 1256,\n",
       " 'sea_food': 1901,\n",
       " 'crab_meat': 682,\n",
       " 'crab_soup': 685,\n",
       " 'fish_curry': 878,\n",
       " 'chicken_cafreal': 395,\n",
       " 'butter_naan': 288,\n",
       " 'panneer_butter_masala': 1606,\n",
       " 'rabri': 1787,\n",
       " 'gajar_ka_halwa': 924,\n",
       " 'aam_panna': 1,\n",
       " 'tomato_basil_soup': 2120,\n",
       " 'grape_juice': 975,\n",
       " 'chicken_tikka_roll': 516,\n",
       " 'shawarma_roll': 1925,\n",
       " 'chicken_shawarama': 493,\n",
       " 'biryani_combo': 214,\n",
       " 'beer': 171,\n",
       " 'wedges': 2219,\n",
       " 'papaya_salad': 1608,\n",
       " 'buffalo_wings': 263,\n",
       " 'ginger_chicken': 955,\n",
       " 'donne_biryani': 781,\n",
       " 'chicken_kebab': 434,\n",
       " 'egg_bhurji': 810,\n",
       " 'veggie_roll': 2197,\n",
       " 'chicken_kebab_roll': 436,\n",
       " 'cheese_roll': 359,\n",
       " 'benne_dosa': 188,\n",
       " 'mirchi_bajji': 1353,\n",
       " 'filter_coffee': 870,\n",
       " 'poha': 1703,\n",
       " 'tea': 2069,\n",
       " 'butter_dosa': 281,\n",
       " 'crispy_dosa': 702,\n",
       " 'berryblast': 193,\n",
       " 'cheesecake': 365,\n",
       " 'salted_caramel': 1873,\n",
       " 'hyderabadi_biryani': 1030,\n",
       " 'tandoori_chicken': 2049,\n",
       " 'chicken_guntur': 427,\n",
       " 'buttermilk': 292,\n",
       " 'manchurian': 1257,\n",
       " 'chaat': 330,\n",
       " 'dahi_bhalle': 736,\n",
       " 'rooftop_ambience': 1845,\n",
       " 'kesari_bath': 1137,\n",
       " 'open_dosa': 1515,\n",
       " 'vada': 2143,\n",
       " 'idli': 1048,\n",
       " 'bread_dosa': 234,\n",
       " 'cup_cake': 723,\n",
       " 'chocolate_cake': 563,\n",
       " 'tirupathi_pongal': 2115,\n",
       " 'kharabath': 1145,\n",
       " 'kali_dosa': 1102,\n",
       " 'rava_idli': 1809,\n",
       " 'panner_tikka': 1607,\n",
       " 'kulfi': 1170,\n",
       " 'carrot_halwa': 324,\n",
       " 'fried_rice': 898,\n",
       " 'set_dosa': 1913,\n",
       " 'dal_kichadi': 751,\n",
       " 'french_fries': 894,\n",
       " 'shawarma': 1923,\n",
       " 'lahori_chicken': 1182,\n",
       " 'mughlai_chicken': 1388,\n",
       " 'masala_lemonade': 1294,\n",
       " 'rajma': 1797,\n",
       " 'ice_cream_roll': 1038,\n",
       " 'paan_ice_cream': 1531,\n",
       " 'chocolate_icecreams': 584,\n",
       " 'mississippi_mudpie': 1360,\n",
       " 'roast_pork': 1838,\n",
       " 'tai_pai_chicken': 2041,\n",
       " 'sweet_corn_chicken_soup': 2020,\n",
       " 'masala_peanuts': 1300,\n",
       " 'chinese_chop_suey': 542,\n",
       " 'garlic_maggi': 934,\n",
       " 'bruschetta_bites': 256,\n",
       " 'laksa_soup': 1184,\n",
       " 'veg_fritters': 2161,\n",
       " 'vegetarian': 2194,\n",
       " 'babycorn_manchurian': 81,\n",
       " 'mango_salad': 1274,\n",
       " 'brownie': 247,\n",
       " 'pasta_alfredo': 1615,\n",
       " 'chicken_masala': 454,\n",
       " 'vada_pav': 2145,\n",
       " 'tawa_pulav': 2067,\n",
       " 'malpua': 1255,\n",
       " 'hot_dog': 1021,\n",
       " 'cheesy_pizza': 373,\n",
       " 'thick_shakes': 2103,\n",
       " 'paan_shake': 1534,\n",
       " 'brownie_bomb': 248,\n",
       " 'spinach_corn_sandwich': 1973,\n",
       " 'paneer_peri_peri': 1587,\n",
       " 'spinach_salsa': 1976,\n",
       " 'bruschettas': 257,\n",
       " 'chocolate_bomb': 562,\n",
       " 'friendly_staff': 901,\n",
       " 'dhokla': 773,\n",
       " 'whole_meat_shawarma': 2227,\n",
       " 'paneer_parantha': 1585,\n",
       " 'bhindi_fry': 204,\n",
       " 'veg_kolhapuri': 2164,\n",
       " 'paneer_satay': 1593,\n",
       " 'tomato_soup': 2126,\n",
       " 'bbq_chicken': 141,\n",
       " 'jowar_roti': 1079,\n",
       " 'sabudana_vada': 1857,\n",
       " 'brinjal_curry': 243,\n",
       " 'tandoori_paneer': 2056,\n",
       " 'exotic_garlic_bread': 844,\n",
       " 'neer_dosa': 1483,\n",
       " 'marwai_sukka': 1282,\n",
       " 'egg_biryani': 811,\n",
       " 'kori_roti': 1164,\n",
       " 'thai_fish': 2088,\n",
       " 'white_pasta': 2225,\n",
       " 'veg_momos': 2168,\n",
       " 'fry_momos': 917,\n",
       " 'onion_dosa': 1508,\n",
       " 'rava_dosa': 1808,\n",
       " 'boondi_raita': 230,\n",
       " 'sweet_lassi': 2026,\n",
       " 'dal_tadka': 755,\n",
       " 'brownie_chocolate': 249,\n",
       " 'palak_chaat': 1541,\n",
       " 'fish': 875,\n",
       " 'schezwan_momos': 1897,\n",
       " 'chicken_momo': 457,\n",
       " 'teriyaki_chicken': 2080,\n",
       " 'thukpa': 2105,\n",
       " 'mint_cooler': 1346,\n",
       " 'pho': 1677,\n",
       " 'calamari': 301,\n",
       " 'ravioli': 1811,\n",
       " 'pumpkin_soup': 1770,\n",
       " 'cheesy_garlic_bread': 370,\n",
       " 'tiramisu': 2112,\n",
       " 'lemon_chicken': 1203,\n",
       " 'murgh_ghee_roast': 1395,\n",
       " 'fish_fry': 883,\n",
       " 'ghee_roast_paneer': 953,\n",
       " 'appam': 60,\n",
       " 'chicken_sukha': 504,\n",
       " 'ragi_mudde': 1790,\n",
       " 'chicken_curry': 405,\n",
       " 'mutton_chops': 1432,\n",
       " 'potato_fries': 1733,\n",
       " 'americano': 45,\n",
       " 'palak_paneer_paratha': 1547,\n",
       " 'white_sauce_pasta': 2226,\n",
       " 'masala_garlic_bread': 1290,\n",
       " 'chicken_fry': 422,\n",
       " 'mutton_fry': 1437,\n",
       " 'paneer_manchurian': 1579,\n",
       " 'chocolate_sandwich': 601,\n",
       " 'veg_cheese_sandwich': 2154,\n",
       " 'chilli_cheese': 527,\n",
       " 'corn_sandwich': 669,\n",
       " 'andhra_meal': 50,\n",
       " 'veg_thali': 2185,\n",
       " 'fry_piece_biryani': 918,\n",
       " 'gongura_chicken': 971,\n",
       " 'veggie_delight': 2195,\n",
       " 'fruit_salad': 913,\n",
       " 'chocolate_fudge': 578,\n",
       " 'idli_vada': 1053,\n",
       " 'pongal': 1706,\n",
       " 'curd_rice': 724,\n",
       " 'paneer_hyderabadi': 1567,\n",
       " 'stuffed_mushroom': 2004,\n",
       " 'jal': 1063,\n",
       " 'jeera': 1074,\n",
       " 'hot_coffee': 1020,\n",
       " 'hatti_samosa': 1000,\n",
       " 'badam_milk': 86,\n",
       " 'potato_twister': 1739,\n",
       " 'tikki_chaat': 2111,\n",
       " 'cheese_cutlet': 343,\n",
       " 'butter_kulcha': 286,\n",
       " 'cocktails': 635,\n",
       " 'rasmalai': 1806,\n",
       " 'chocolava': 613,\n",
       " 'spicy_paneer': 1968,\n",
       " 'crispy_vada': 715,\n",
       " 'idli_chutney': 1050,\n",
       " 'schezwan_fried_rice': 1896,\n",
       " 'clear_soup': 629,\n",
       " 'chicken_wings': 521,\n",
       " 'matka_kulfi': 1316,\n",
       " 'chicken_lasagne': 446,\n",
       " 'jolada_rotti': 1078,\n",
       " 'sweet_pongal': 2029,\n",
       " 'mini_idlis': 1343,\n",
       " 'open_masala_dosa': 1516,\n",
       " 'pakoda': 1540,\n",
       " 'raagi_dosa': 1783,\n",
       " 'halwa': 994,\n",
       " 'pineapple_rasam': 1684,\n",
       " 'cheese_garlic_naan': 347,\n",
       " 'potato_cheese_ball': 1732,\n",
       " 'bamboo_chicken_biryani': 104,\n",
       " 'chicken_skewer': 498,\n",
       " 'malai_kofta': 1250,\n",
       " 'anjal_masala_fry': 56,\n",
       " 'coconut_pudding': 642,\n",
       " 'jalapeno_poppers': 1067,\n",
       " 'burrito_bowl': 273,\n",
       " 'ferrero_rocher_shake': 866,\n",
       " 'falafal_sandwich': 850,\n",
       " 'banana_waffles': 117,\n",
       " 'aloo_paratha': 28,\n",
       " 'pesto_pizza': 1673,\n",
       " 'steak': 1986,\n",
       " 'masala_quesadilla': 1305,\n",
       " 'breakfast_buffet': 239,\n",
       " 'kulcha': 1169,\n",
       " 'almond_soup': 17,\n",
       " 'hara_bhara_kabab': 996,\n",
       " 'crispy_corn': 701,\n",
       " 'patiala_paneer': 1620,\n",
       " 'naga_thali': 1478,\n",
       " 'freak_shake': 892,\n",
       " 'fried_rice_chicken': 899,\n",
       " 'cheese_balls': 339,\n",
       " 'masala_chai': 1285,\n",
       " 'masala_tea': 1308,\n",
       " 'pesto_pasta': 1672,\n",
       " 'jasmine_rice': 1071,\n",
       " 'tom_yum_soup': 2118,\n",
       " 'prawn_ghee_roast': 1750,\n",
       " 'corn_tikki': 671,\n",
       " 'mushroom_ghee_roast': 1408,\n",
       " 'pinacolada': 1681,\n",
       " 'egg_ghee_roast': 818,\n",
       " 'pepper_chicken': 1639,\n",
       " 'honey_chilli_potatoes': 1015,\n",
       " 'lemonade': 1211,\n",
       " 'mushroom_manchurian': 1409,\n",
       " 'wonton_soup': 2234,\n",
       " 'american_chopsuey': 44,\n",
       " 'masala_vada_pav': 1311,\n",
       " 'cheese_vada_pav': 364,\n",
       " 'corn_augratin': 660,\n",
       " 'pili_pili_pizza': 1680,\n",
       " 'mexican_rice': 1334,\n",
       " 'garden_salad': 928,\n",
       " 'miso_salad': 1356,\n",
       " 'bisi_bele_bhaath': 215,\n",
       " 'veg_jaipuri': 2163,\n",
       " 'chilli_mushroom': 534,\n",
       " 'murgh_platter': 1403,\n",
       " 'lemon_mojito': 1206,\n",
       " 'mocha_fudge': 1368,\n",
       " 'potli_biryani': 1742,\n",
       " 'juicy_momos': 1081,\n",
       " 'chocolate_momos': 587,\n",
       " 'mushroom_momo': 1411,\n",
       " 'paneer_momos': 1582,\n",
       " 'macaroon': 1232,\n",
       " 'mousse': 1382,\n",
       " 'caramel_eclair': 314,\n",
       " 'dahi_papadi_chaat': 741,\n",
       " 'papdi_chaat': 1609,\n",
       " 'bhel_puri': 200,\n",
       " 'kachori': 1090,\n",
       " 'sugarcane_juice': 2009,\n",
       " 'popcorn': 1710,\n",
       " 'rumali_roti': 1850,\n",
       " 'sev_puri': 1915,\n",
       " 'dahi_aloo_puri': 735,\n",
       " 'mango_lassi': 1268,\n",
       " 'shrikhand': 1931,\n",
       " 'pudina_lassi': 1765,\n",
       " 'ginger_chai': 954,\n",
       " 'ginger_tea': 958,\n",
       " 'banana_cake': 106,\n",
       " 'samosa': 1876,\n",
       " 'banana_walnut': 118,\n",
       " 'medu_dosa': 1324,\n",
       " 'veg_buffet': 2151,\n",
       " 'garlic_naan': 935,\n",
       " 'shahi_paneer': 1917,\n",
       " 'shikanji': 1928,\n",
       " 'makke_ki_roti': 1241,\n",
       " 'kofta_curry': 1160,\n",
       " 'penne_alfredo': 1636,\n",
       " 'mozzarella_sticks': 1383,\n",
       " 'chicken_sholay': 494,\n",
       " 'andhra_thali': 53,\n",
       " 'guava_ice_cream': 984,\n",
       " 'oreo_shake': 1526,\n",
       " 'paneer_tikka_masala': 1599,\n",
       " 'wheat_beer': 2220,\n",
       " 'corn_paratha': 668,\n",
       " 'misal_pav': 1354,\n",
       " 'mughlai_paratha': 1389,\n",
       " 'laccha_paratha': 1178,\n",
       " 'cobb_salad': 633,\n",
       " 'calzone': 306,\n",
       " 'maddur_vada': 1235,\n",
       " 'curd_vadai': 725,\n",
       " 'upma': 2142,\n",
       " 'sunday_breakfast': 2011,\n",
       " 'spring_dosa': 1979,\n",
       " 'masala_chaach': 1284,\n",
       " 'deluxe_punjabi_thali': 763,\n",
       " 'jalebi': 1068,\n",
       " 'rasgulla': 1805,\n",
       " 'samosa_kachori': 1880,\n",
       " 'mysore_pak': 1475,\n",
       " 'tandoori_maggi': 2052,\n",
       " 'paneer_sizzler': 1594,\n",
       " 'butter_garlic_fries': 283,\n",
       " 'peri_peri_maggi': 1661,\n",
       " 'khali_dosa': 1140,\n",
       " 'vada_sambar': 2146,\n",
       " 'cheese_dosa': 345,\n",
       " 'chocolate_dosa': 572,\n",
       " 'corn_dosa': 664,\n",
       " 'pesarattu': 1669,\n",
       " 'paya': 1627,\n",
       " 'filter_kaapi': 872,\n",
       " 'khara_bhath': 1143,\n",
       " 'crispy_masala_dosa': 707,\n",
       " 'ghee_masala_dosa': 948,\n",
       " 'coriander_soup': 659,\n",
       " 'thai_chicken': 2085,\n",
       " 'draught_beer': 793,\n",
       " 'chilli_paneer_pizza': 536,\n",
       " 'crispy_fried_chicken': 703,\n",
       " 'obbattu': 1506,\n",
       " 'puri_saagu': 1777,\n",
       " 'bonda': 228,\n",
       " 'veg_burger': 2152,\n",
       " 'pizza_sandwich': 1694,\n",
       " 'club_sandwich': 632,\n",
       " 'sagu_dosa': 1862,\n",
       " 'plain_dosa': 1696,\n",
       " 'palak_rice': 1548,\n",
       " 'hara_bhara_kebab': 997,\n",
       " 'custard': 728,\n",
       " 'mango_chiller': 1262,\n",
       " 'fattoush': 862,\n",
       " 'prawn': 1743,\n",
       " 'irani_chicken_tikka': 1058,\n",
       " 'goan_fish_curry': 961,\n",
       " 'paan_kulfi': 1532,\n",
       " 'mango_juice': 1266,\n",
       " 'dal_makhani': 752,\n",
       " 'tandoori_mushrooms': 2055,\n",
       " 'hummus_falafel': 1025,\n",
       " 'plain_rice': 1698,\n",
       " 'cheese_naan': 353,\n",
       " 'malaysian_noodles': 1254,\n",
       " 'vegetable_stew': 2193,\n",
       " 'chicken_tikka': 513,\n",
       " 'peri_peri_chicken_pizza': 1652,\n",
       " 'wings': 2233,\n",
       " 'english_breakfast': 841,\n",
       " 'peri_peri_chicken': 1650,\n",
       " 'thai_red_curry': 2092,\n",
       " 'chicken_satay': 486,\n",
       " 'lemon_tea': 1210,\n",
       " 'veg_sandwich': 2178,\n",
       " 'mayo_sandwich': 1318,\n",
       " 'egg_sandwich': 830,\n",
       " 'vegetable_noodles': 2192,\n",
       " 'kit_kat_shake': 1153,\n",
       " 'veg_quiche': 2175,\n",
       " 'sattu_paratha': 1890,\n",
       " 'bubble_tea': 260,\n",
       " 'chocolate_waffles': 611,\n",
       " 'dal_fry': 749,\n",
       " 'radhaballavi': 1789,\n",
       " 'egg_noodles': 822,\n",
       " 'egg_roll': 828,\n",
       " 'egg_devils': 815,\n",
       " 'blueberry_waffles': 226,\n",
       " 'nutella_waffle': 1505,\n",
       " 'chocolate_oreo': 593,\n",
       " 'hyderabadi_chicken_biryani': 1032,\n",
       " 'mix_veg': 1362,\n",
       " 'saag': 1855,\n",
       " 'egg_curry': 813,\n",
       " 'sprout_salad': 1981,\n",
       " 'chicken_pizza': 471,\n",
       " 'egg_masala': 821,\n",
       " 'chole': 615,\n",
       " 'kadai_paneer': 1091,\n",
       " 'crispy_honey_chicken': 704,\n",
       " 'mutton_kosha': 1447,\n",
       " 'chicken_kasha': 433,\n",
       " 'samosa_chaat': 1878,\n",
       " 'kheer': 1147,\n",
       " 'chole_bhature': 616,\n",
       " 'chai': 331,\n",
       " 'elaichi_tea': 837,\n",
       " 'litti': 1220,\n",
       " 'liti_chokha': 1219,\n",
       " 'mushroom_masala': 1410,\n",
       " 'palak_paneer': 1546,\n",
       " 'chocolate_truffle': 607,\n",
       " 'fruit_custard': 909,\n",
       " 'russian_cutlet': 1852,\n",
       " 'whopper_meal': 2229,\n",
       " 'grilled_wings': 983,\n",
       " 'basmati_rice': 137,\n",
       " 'galauti_kebab': 925,\n",
       " 'kalmi_kabab': 1104,\n",
       " 'hyderabadi_dum_biryani': 1034,\n",
       " 'haleem': 993,\n",
       " 'supreme_mutton_biryani': 2015,\n",
       " 'hyderabadi_mutton_biryani': 1035,\n",
       " 'cheesiano_pizza': 366,\n",
       " 'peri_peri_paneer_pizza': 1662,\n",
       " 'pahari_chicken': 1539,\n",
       " 'chicken_kebab_biryani': 435,\n",
       " 'katla_kalia': 1119,\n",
       " 'basanti_pulao': 131,\n",
       " 'aloo_posto': 31,\n",
       " 'ilish': 1054,\n",
       " 'mutton_dak_bunglow': 1435,\n",
       " 'egg_chilli': 812,\n",
       " 'butter_chicken_biryani': 276,\n",
       " 'pudding': 1763,\n",
       " 'khichda': 1149,\n",
       " 'kesaria_lassi': 1138,\n",
       " 'rajdhani_thali': 1796,\n",
       " 'chicken_nachos': 458,\n",
       " 'veg_platter': 2172,\n",
       " 'hyderabadi_chicken': 1031,\n",
       " 'chicken_dum_biryani': 414,\n",
       " 'rumali_shawarma': 1851,\n",
       " 'shawarma_burger': 1924,\n",
       " 'amritsari_kulcha': 46,\n",
       " 'aloo_kulcha': 24,\n",
       " 'kadhi_chawal': 1098,\n",
       " 'mutton_keema': 1443,\n",
       " 'chocolate_devotion': 570,\n",
       " 'icecream_cake': 1044,\n",
       " 'cotton_candy_ice_cream': 675,\n",
       " 'strawberry_smoothie': 1997,\n",
       " 'punjabi_kulcha': 1773,\n",
       " 'paneer_kulcha': 1571,\n",
       " 'punjabi_chole': 1772,\n",
       " 'masala_paneer': 1297,\n",
       " 'paneer_punjabi': 1590,\n",
       " 'chicken_sizzler': 497,\n",
       " 'long_island_iced_tea': 1227,\n",
       " 'barbeque_chicken': 128,\n",
       " 'fish_grill': 884,\n",
       " 'chicken_manchow_soup': 451,\n",
       " 'hunan_chicken': 1028,\n",
       " 'pad_thai': 1536,\n",
       " 'singapore_noodles': 1936,\n",
       " 'dragon_rolls': 792,\n",
       " 'kosha_mangsho': 1165,\n",
       " 'mishti_doi': 1355,\n",
       " 'nolen_gurer_ice_cream': 1491,\n",
       " 'luchi': 1228,\n",
       " 'aloo_matar': 26,\n",
       " 'chilli_babycorn': 526,\n",
       " 'chaach': 327,\n",
       " 'marshmallow': 1280,\n",
       " 'andhra_biryani': 48,\n",
       " 'chicken_chettinad': 399,\n",
       " 'murgh_makhani': 1399,\n",
       " 'poori_chole': 1709,\n",
       " 'murgh_lababdar': 1398,\n",
       " 'chaap': 329,\n",
       " 'butter_paneer': 289,\n",
       " 'burrito': 272,\n",
       " 'baingan_bharta': 92,\n",
       " 'pizza_dosa': 1691,\n",
       " 'club_kachori': 631,\n",
       " 'pie': 1679,\n",
       " 'pepperoni_pizza': 1644,\n",
       " 'chicken_sandwich': 484,\n",
       " 'sangria': 1885,\n",
       " 'saffron_rice': 1861,\n",
       " 'sulemani_chai': 2010,\n",
       " 'prawn_crackers': 1745,\n",
       " 'kuluki_sarbat': 1173,\n",
       " 'meen_pollichathu': 1325,\n",
       " 'vellarikka_pattanam': 2199,\n",
       " 'pork_chops': 1716,\n",
       " 'craft_beer': 690,\n",
       " 'drunken_chicken_wings': 796,\n",
       " 'masala_prawn': 1304,\n",
       " 'mutton_curry': 1433,\n",
       " 'fish_cutlet': 880,\n",
       " 'bengali_pulao': 187,\n",
       " 'churma': 624,\n",
       " 'palak_kofta': 1544,\n",
       " 'dahi_bhindi': 737,\n",
       " 'pothichoru': 1741,\n",
       " 'roast_chicken': 1836,\n",
       " 'masala_fries': 1289,\n",
       " 'crunchy_veg_burger': 719,\n",
       " 'chocolate_pancakes': 595,\n",
       " 'raj_kachori': 1794,\n",
       " 'doi_katla': 778,\n",
       " 'aalo_bhaja': 0,\n",
       " 'bhetki_paturi': 202,\n",
       " 'veg_ball_manchurian': 2148,\n",
       " 'french_toast': 896,\n",
       " 'masala_omelette': 1296,\n",
       " 'egg_paratha': 824,\n",
       " 'caramel_custard': 313,\n",
       " 'corn_momo': 666,\n",
       " 'momo_platter': 1375,\n",
       " 'potato_momos': 1736,\n",
       " 'tandoori_momos': 2053,\n",
       " 'ghee_roast_mutton': 952,\n",
       " 'chicken_chatpata': 398,\n",
       " 'chicken_popcorn': 472,\n",
       " 'peri_peri_burger': 1649,\n",
       " 'firni': 874,\n",
       " 'calcutta_biryani': 302,\n",
       " 'crab_sukha': 686,\n",
       " 'egg_salad': 829,\n",
       " 'bacon_fry': 83,\n",
       " 'beef_burger': 153,\n",
       " 'chicken_thali': 510,\n",
       " 'chicken_meal': 456,\n",
       " 'chicken_noodle': 459,\n",
       " 'hot_pot': 1023,\n",
       " 'coriander_chicken': 658,\n",
       " 'oreo_milkshake': 1524,\n",
       " 'choco_brownie': 548,\n",
       " 'caramel_coffee': 312,\n",
       " 'choco_shake': 553,\n",
       " 'stuffed_chicken': 2001,\n",
       " 'malai_broccoli': 1246,\n",
       " 'brownie_sundae': 255,\n",
       " 'tandoori_roti': 2060,\n",
       " 'liege_waffle': 1215,\n",
       " 'chocolate_drink': 574,\n",
       " 'crunchy_waffles': 720,\n",
       " 'belgian_waffles': 182,\n",
       " 'butter_beer': 274,\n",
       " 'exotic_veg_pizza': 846,\n",
       " 'chocolate_muffin': 591,\n",
       " 'donut': 783,\n",
       " 'chicken_tikka_sandwich': 517,\n",
       " 'hot_chocolate_brownie': 1018,\n",
       " 'chicken_sandwiches': 485,\n",
       " 'cheese_sandwich': 360,\n",
       " 'irish_cream_coffee': 1060,\n",
       " 'blueberry_cheesecake': 221,\n",
       " 'akki_rottis': 13,\n",
       " 'peri_peri_chicken_wings': 1657,\n",
       " 'mix_grill_sizzler': 1361,\n",
       " 'moong_dal_halwa': 1380,\n",
       " 'nutella_pancakes': 1502,\n",
       " 'mexican_fries': 1332,\n",
       " 'chocolate_overload': 594,\n",
       " 'chocolate_fondue': 577,\n",
       " 'ferrero_rocher': 864,\n",
       " 'kadala_curry': 1093,\n",
       " 'idiyappam': 1047,\n",
       " 'bhindi_masala': 205,\n",
       " 'puri_sabzi': 1778,\n",
       " 'veg_starter': 2180,\n",
       " 'martini': 1281,\n",
       " 'sweet_potato_mash': 2033,\n",
       " 'pulled_chicken_burger': 1767,\n",
       " 'sweet_potato_fries': 2031,\n",
       " 'andhra_style_chilli_chicken': 52,\n",
       " 'peppy_paneer_pizza': 1646,\n",
       " 'chocolate_almond': 558,\n",
       " 'tender_coconut_ice_cream': 2073,\n",
       " 'choco_almond': 546,\n",
       " 'coffee_walnut': 652,\n",
       " 'custard_apple': 729,\n",
       " 'peri_peri_prawn': 1666,\n",
       " 'fiery_paneer': 868,\n",
       " 'garlic_pops': 936,\n",
       " 'chocolate_avalanche': 559,\n",
       " 'afghan_chicken': 6,\n",
       " 'rice': 1824,\n",
       " 'basil_pesto_chicken': 134,\n",
       " 'basil_soup': 136,\n",
       " 'rice_bowl': 1825,\n",
       " 'california_burrito': 304,\n",
       " 'cappuccino': 309,\n",
       " 'asparagus_soup': 75,\n",
       " 'woodfire_pizza': 2236,\n",
       " 'cake_pops': 300,\n",
       " 'chocolate_truffle_cake': 608,\n",
       " 'egg_puff': 826,\n",
       " 'paneer_puff': 1589,\n",
       " 'coffee_shake': 650,\n",
       " 'french_chicken': 893,\n",
       " 'chicken_pakora': 461,\n",
       " 'cajun_chicken': 298,\n",
       " 'chicken_tacos': 505,\n",
       " 'swiss_roll': 2035,\n",
       " 'fish_thali': 890,\n",
       " 'cucumber_juice': 721,\n",
       " 'palak_soup': 1549,\n",
       " 'pineapple_cake': 1682,\n",
       " 'kadhai_mushroom': 1095,\n",
       " 'chicken_kolhapuri': 442,\n",
       " 'phirni': 1676,\n",
       " 'malai_kulfi': 1251,\n",
       " 'rajma_masala': 1799,\n",
       " 'pork_ribs': 1723,\n",
       " 'fruit_cream': 908,\n",
       " 'rajasthani_thali': 1795,\n",
       " 'dal_bati': 745,\n",
       " 'ghee_idli': 944,\n",
       " 'pulpy_grape_juice': 1769,\n",
       " 'prawn_curry': 1746,\n",
       " 'arabian_grape_juice': 70,\n",
       " 'mississippi_mud': 1359,\n",
       " 'nati_biryani': 1482,\n",
       " 'almond_flakes': 15,\n",
       " 'podi_idli': 1701,\n",
       " 'podi_dosa': 1700,\n",
       " 'dum_ka_chicken': 803,\n",
       " 'bajji': 93,\n",
       " 'millet_pizza': 1341,\n",
       " 'falafel_wrap': 857,\n",
       " 'barbecue_chicken_burger': 124,\n",
       " 'courteous_staff': 676,\n",
       " 'chocolate_decadence': 568,\n",
       " 'red_velvet_cake': 1817,\n",
       " 'nutella_brownie': 1497,\n",
       " 'cottage_cheese_steak': 674,\n",
       " 'egg_roast': 827,\n",
       " 'beef_fry': 156,\n",
       " 'malabari_biryani': 1243,\n",
       " 'ghee_roast_dosa': 951,\n",
       " 'peri_chicken': 1647,\n",
       " 'belgian_wit': 183,\n",
       " 'lager': 1180,\n",
       " 'paneer_lollipop': 1574,\n",
       " 'rustica_pizza': 1854,\n",
       " 'dark_beer': 757,\n",
       " 'coconut_chicken': 637,\n",
       " 'bloody_mary': 218,\n",
       " 'soba_noodles': 1945,\n",
       " 'pad_thai_noodle': 1537,\n",
       " 'pot_biryani': 1730,\n",
       " 'veg_pulao': 2174,\n",
       " 'lamb': 1186,\n",
       " 'mushroom_soup': 1423,\n",
       " 'mango_shake': 1275,\n",
       " 'paneer_tikka_pizza': 1600,\n",
       " 'hummus_platter': 1027,\n",
       " 'juicy_lamb_burger': 1080,\n",
       " 'salmon_steak': 1870,\n",
       " 'macaroni': 1231,\n",
       " 'panna_cotta': 1605,\n",
       " 'corn_balls': 661,\n",
       " 'rose_tea': 1848,\n",
       " 'hibiscus_tea': 1010,\n",
       " 'chocolate_shake': 603,\n",
       " 'chicken_filet_burger': 417,\n",
       " 'peri_peri_chicken_salad': 1654,\n",
       " 'peri_peri_chicken_burger': 1651,\n",
       " 'yoghurt_shake': 2242,\n",
       " 'belgian_chocolate_waffle': 180,\n",
       " 'kerala_parotta': 1131,\n",
       " 'chicken_stew': 502,\n",
       " 'kalmi_kebab': 1105,\n",
       " 'chocolate_donut': 571,\n",
       " 'chocolate_dreamcake': 573,\n",
       " 'cookie_crunch': 655,\n",
       " 'double_chocolate_cake': 786,\n",
       " 'chocolate_hazelnut_shake': 583,\n",
       " 'choco_hazelnut': 551,\n",
       " 'milk_shake': 1338,\n",
       " 'strawberry_milkshake': 1994,\n",
       " 'paya_soup': 1628,\n",
       " 'salmon': 1869,\n",
       " 'paneer_tikki': 1602,\n",
       " 'mutton_raan': 1457,\n",
       " 'mango_margarita': 1269,\n",
       " 'tandoori_aloo': 2045,\n",
       " 'murgh_patiala': 1402,\n",
       " 'khara_bun': 1144,\n",
       " 'veg_puff': 2173,\n",
       " 'rich_chocolate_cake': 1832,\n",
       " 'fruit_cake': 907,\n",
       " 'mutton_seekh': 1464,\n",
       " 'methi_paratha': 1330,\n",
       " 'aloo_tikki': 37,\n",
       " 'hot_wings': 1024,\n",
       " 'madagascar_chocolate': 1234,\n",
       " 'bubble_gum_ice_cream': 258,\n",
       " 'pahadi_kebab': 1538,\n",
       " 'pizza_waffles': 1695,\n",
       " 'nutella_shake': 1504,\n",
       " 'wood_fire_pizza': 2235,\n",
       " 'belgium_chocolate': 184,\n",
       " 'ice_cream_sundae': 1042,\n",
       " 'indori_poha': 1056,\n",
       " 'cheese_paratha': 357,\n",
       " 'poha_jalebi': 1704,\n",
       " 'grilled_sandwich': 981,\n",
       " 'latte': 1197,\n",
       " 'belgian_chocolate': 177,\n",
       " 'strawberry_sorbet': 1998,\n",
       " 'mango_sorbet': 1276,\n",
       " 'mango_cheesecake': 1261,\n",
       " 'gourmet_pizza': 974,\n",
       " 'nutella_pizza': 1503,\n",
       " 'chocolate_sandwiches': 602,\n",
       " 'mexican_bowl': 1331,\n",
       " 'sabudana_khichdi': 1856,\n",
       " 'dumplings': 804,\n",
       " 'matka_lassi': 1317,\n",
       " 'chole_kulche': 617,\n",
       " 'kimchi': 1151,\n",
       " 'veg_hakka_noodles': 2162,\n",
       " 'pan_fried_noodles': 1552,\n",
       " 'crab_masala': 681,\n",
       " 'thandai': 2099,\n",
       " 'tikka': 2109,\n",
       " 'chilli_paneer': 535,\n",
       " 'corn_pakoda': 667,\n",
       " 'peda': 1634,\n",
       " 'au_gratin': 76,\n",
       " 'apple_pie': 66,\n",
       " 'new_york_cheesecake': 1485,\n",
       " 'honey_cake': 1012,\n",
       " 'apple_cake': 61,\n",
       " 'potato_bun': 1731,\n",
       " 'bun_butter_jam': 265,\n",
       " 'bun_masala': 266,\n",
       " 'chocolate_sundae': 604,\n",
       " 'gelato_ice_cream': 940,\n",
       " 'paneer_sandwich': 1592,\n",
       " 'wine_sauteed_mushrooms': 2232,\n",
       " 'badam_halwa': 85,\n",
       " 'rasam_rice': 1804,\n",
       " 'paneer_pakora': 1584,\n",
       " 'aloo_palya': 27,\n",
       " 'caesar_salad': 296,\n",
       " 'jumbo_prawns': 1084,\n",
       " 'curry_crab': 726,\n",
       " 'bhuna_gosht': 207,\n",
       " 'fattoush_salad': 863,\n",
       " 'mutton_roganjosh': 1461,\n",
       " 'choco_bomb': 547,\n",
       " 'mutton_pepper_fry': 1455,\n",
       " 'chicken_quesadilla': 475,\n",
       " 'stuffed_kulcha': 2003,\n",
       " 'fish_tikka': 891,\n",
       " 'outdoor_sitting_arrangement': 1529,\n",
       " 'mutton_seekh_kabab': 1465,\n",
       " 'mutton_kebab': 1442,\n",
       " 'gajar_halwa': 923,\n",
       " 'sunday_brunch': 2012,\n",
       " 'sunday_brunches': 2013,\n",
       " 'enchiladas': 840,\n",
       " 'boti_kebab': 231,\n",
       " 'gatte_ki_subzi': 938,\n",
       " 'dahi_vada': 743,\n",
       " 'greek_salad': 976,\n",
       " 'mudpie': 1386,\n",
       " 'falafel_burger': 852,\n",
       " 'cheesy_chicken_burger': 367,\n",
       " 'chicken_chilli_pizza': 400,\n",
       " 'monster_burger': 1377,\n",
       " 'butter_chicken_pizza': 279,\n",
       " 'pasta_primavera': 1618,\n",
       " 'chicken_sausages': 487,\n",
       " 'matar_paneer': 1315,\n",
       " 'dhaniya_chutney': 771,\n",
       " 'cheese_paneer_paratha': 356,\n",
       " 'rice_kheer': 1827,\n",
       " 'aloo_pyaz_paratha': 32,\n",
       " 'detox_smoothie': 768,\n",
       " 'phulke_ghar_ke': 1678,\n",
       " 'jalebi_rabri': 1069,\n",
       " 'lollipop_biryani': 1226,\n",
       " 'samosa_chat': 1879,\n",
       " 'bamboo_chicken': 103,\n",
       " 'thepla': 2101,\n",
       " 'ulvacharu_biryani': 2141,\n",
       " 'chicken_manchurian': 452,\n",
       " 'chicken_butter_masala': 394,\n",
       " 'paneer_curry': 1564,\n",
       " 'thalassery_biryani': 2097,\n",
       " 'paneer_methi_malai': 1580,\n",
       " 'sarso_da_saag': 1886,\n",
       " 'momo_burger': 1374,\n",
       " 'veg_dum_biryani': 2157,\n",
       " 'beef_biryani': 151,\n",
       " 'karimeen_fry': 1115,\n",
       " 'cheese_masala_dosa': 351,\n",
       " 'paper_plain_dosa': 1611,\n",
       " 'tangdi_kabab': 2062,\n",
       " 'tomato_chicken': 2121,\n",
       " 'chur_chur_naan': 621,\n",
       " 'chana_masala': 334,\n",
       " 'bhatti_chicken': 196,\n",
       " 'shahi_tukda': 1918,\n",
       " 'chicken_pot_biryani': 473,\n",
       " 'jumbo_shawarma': 1085,\n",
       " 'onion_pakoda': 1510,\n",
       " 'chicken_tennessee_wings': 508,\n",
       " 'rajugari_kodi_pulao': 1800,\n",
       " 'brownie_fudge_sundae': 252,\n",
       " 'chocolate_mocha': 586,\n",
       " 'dahi_kebab': 740,\n",
       " 'rajma_chawal': 1798,\n",
       " 'chicken_dumplings': 415,\n",
       " 'teriyaki_fish': 2082,\n",
       " 'puran_poli': 1776,\n",
       " 'mutton_thali': 1473,\n",
       " 'kokum_sharbat': 1162,\n",
       " 'chicken_soup': 499,\n",
       " 'veg_fajitas': 2159,\n",
       " 'fafda': 847,\n",
       " 'kutchi_dabeli': 1177,\n",
       " 'jerk_chicken_salad': 1076,\n",
       " 'chicken_patty': 466,\n",
       " 'garlic_butter_noodle': 930,\n",
       " 'chicken_dim_sum': 409,\n",
       " 'curry_leaf_chicken': 727,\n",
       " 'mutton_handi': 1438,\n",
       " 'designer_cakes': 765,\n",
       " 'malai_kebab': 1249,\n",
       " 'butter_fish': 282,\n",
       " 'chicken_burritos': 393,\n",
       " 'coconut_soup': 645,\n",
       " 'fritters': 905,\n",
       " 'pepperoni': 1643,\n",
       " 'beef_curry': 155,\n",
       " 'chur_chur_paratha': 622,\n",
       " 'keema_pav': 1127,\n",
       " 'duck_roast': 799,\n",
       " 'ginger_lime_mojito': 956,\n",
       " 'watermelon_mojito': 2217,\n",
       " 'strawberry_shake': 1996,\n",
       " 'chicken_salad': 481,\n",
       " 'barbeque_chicken_pizza': 129,\n",
       " 'aglio_olio_pasta': 11,\n",
       " 'rava_masala_dosa': 1810,\n",
       " 'thai_fries': 2089,\n",
       " 'aloo_litti': 25,\n",
       " 'dal_halwa': 750,\n",
       " ...}"
      ]
     },
     "execution_count": 42,
     "metadata": {},
     "output_type": "execute_result"
    }
   ],
   "source": [
    "bow_model.vocabulary_"
   ]
  },
  {
   "cell_type": "code",
   "execution_count": 43,
   "id": "9b0471a0",
   "metadata": {
    "ExecuteTime": {
     "end_time": "2022-08-04T08:01:20.414463Z",
     "start_time": "2022-08-04T08:01:20.390529Z"
    }
   },
   "outputs": [],
   "source": [
    "bow_vec_dish_liked = bow_model.transform(df['dish_liked'])"
   ]
  },
  {
   "cell_type": "code",
   "execution_count": 44,
   "id": "28054ded",
   "metadata": {
    "ExecuteTime": {
     "end_time": "2022-08-04T08:01:20.587413Z",
     "start_time": "2022-08-04T08:01:20.574448Z"
    }
   },
   "outputs": [
    {
     "name": "stdout",
     "output_type": "stream",
     "text": [
      "  (0, 802)\t1\n",
      "  (0, 1229)\t1\n",
      "  (0, 1298)\t1\n",
      "  (0, 1573)\t1\n",
      "  (0, 1614)\t1\n",
      "  (0, 2022)\t1\n",
      "  (0, 2125)\t1\n"
     ]
    }
   ],
   "source": [
    "print(bow_vec_dish_liked[0])"
   ]
  },
  {
   "cell_type": "code",
   "execution_count": 45,
   "id": "7c2bf4c5",
   "metadata": {
    "ExecuteTime": {
     "end_time": "2022-08-04T08:01:20.760529Z",
     "start_time": "2022-08-04T08:01:20.756539Z"
    }
   },
   "outputs": [],
   "source": [
    "price_feature = df['approx_cost(for two people)']"
   ]
  },
  {
   "cell_type": "code",
   "execution_count": 46,
   "id": "b48e56a0",
   "metadata": {
    "ExecuteTime": {
     "end_time": "2022-08-04T08:01:20.947369Z",
     "start_time": "2022-08-04T08:01:20.931420Z"
    }
   },
   "outputs": [
    {
     "data": {
      "text/plain": [
       "800"
      ]
     },
     "execution_count": 46,
     "metadata": {},
     "output_type": "execute_result"
    }
   ],
   "source": [
    "price_feature[0]"
   ]
  },
  {
   "cell_type": "code",
   "execution_count": 47,
   "id": "a2c6de6c",
   "metadata": {
    "ExecuteTime": {
     "end_time": "2022-08-04T08:01:21.151096Z",
     "start_time": "2022-08-04T08:01:21.139865Z"
    }
   },
   "outputs": [],
   "source": [
    "from scipy.sparse import hstack"
   ]
  },
  {
   "cell_type": "code",
   "execution_count": 48,
   "id": "18897efa",
   "metadata": {
    "ExecuteTime": {
     "end_time": "2022-08-04T08:01:21.339784Z",
     "start_time": "2022-08-04T08:01:21.330668Z"
    }
   },
   "outputs": [],
   "source": [
    "final_feature = hstack((bow_vec_rest_type, bow_vec_cusines,bow_vec_dish_liked, price_feature.to_numpy().reshape(-1, 1))).tocsr()\n"
   ]
  },
  {
   "cell_type": "code",
   "execution_count": 49,
   "id": "9035f415",
   "metadata": {
    "ExecuteTime": {
     "end_time": "2022-08-04T08:01:21.587289Z",
     "start_time": "2022-08-04T08:01:21.582327Z"
    }
   },
   "outputs": [
    {
     "name": "stdout",
     "output_type": "stream",
     "text": [
      "  (0, 4)\t1\n",
      "  (0, 46)\t1\n",
      "  (0, 85)\t1\n",
      "  (0, 89)\t1\n",
      "  (0, 921)\t1\n",
      "  (0, 1348)\t1\n",
      "  (0, 1417)\t1\n",
      "  (0, 1692)\t1\n",
      "  (0, 1733)\t1\n",
      "  (0, 2141)\t1\n",
      "  (0, 2244)\t1\n",
      "  (0, 2365)\t800\n"
     ]
    }
   ],
   "source": [
    "print(final_feature[0])"
   ]
  },
  {
   "cell_type": "code",
   "execution_count": 50,
   "id": "4158ba1b",
   "metadata": {
    "ExecuteTime": {
     "end_time": "2022-08-04T08:01:21.788243Z",
     "start_time": "2022-08-04T08:01:21.782258Z"
    }
   },
   "outputs": [
    {
     "name": "stdout",
     "output_type": "stream",
     "text": [
      "  (0, 4)\t1\n",
      "  (0, 46)\t1\n",
      "  (0, 85)\t1\n",
      "  (0, 89)\t1\n",
      "  (0, 921)\t1\n",
      "  (0, 1348)\t1\n",
      "  (0, 1417)\t1\n",
      "  (0, 1692)\t1\n",
      "  (0, 1733)\t1\n",
      "  (0, 2141)\t1\n",
      "  (0, 2244)\t1\n",
      "  (0, 2365)\t800\n"
     ]
    }
   ],
   "source": [
    "print(final_feature[0])"
   ]
  },
  {
   "cell_type": "code",
   "execution_count": null,
   "id": "5b2950bb",
   "metadata": {},
   "outputs": [],
   "source": []
  },
  {
   "cell_type": "markdown",
   "id": "8b6960e0",
   "metadata": {},
   "source": [
    "# recommendation engine building"
   ]
  },
  {
   "cell_type": "code",
   "execution_count": 51,
   "id": "cde286b2",
   "metadata": {
    "ExecuteTime": {
     "end_time": "2022-08-04T08:01:22.414624Z",
     "start_time": "2022-08-04T08:01:22.398851Z"
    }
   },
   "outputs": [],
   "source": [
    "def recommendation(rst_lst, rst_id):\n",
    "    \n",
    "    cosine_dist = pairwise_distances(rst_lst, rst_lst[rst_id],metric='cosine')\n",
    "    \n",
    "    # np.argsort return index according to sorting means let we have 100 as max number in our array and its index is 14\n",
    "    # so it will return new array whose first element will be 14\n",
    "    \n",
    "    \n",
    "    return np.argsort(cosine_dist.flatten())[1:21]"
   ]
  },
  {
   "cell_type": "code",
   "execution_count": 52,
   "id": "f29dac13",
   "metadata": {
    "ExecuteTime": {
     "end_time": "2022-08-04T08:01:22.618770Z",
     "start_time": "2022-08-04T08:01:22.611790Z"
    }
   },
   "outputs": [],
   "source": [
    "\n",
    "def model(rst_lst, rst_id):\n",
    "    dd = recommendation(rst_lst, rst_id)\n",
    "    \n",
    "    display(\"Restaurent selected By you\")\n",
    "    \n",
    "    display(f\"Restaurent name: {df['name'][rst_id]}\")\n",
    "    display(f\"Restaurent Cusine: {df['cuisines'][rst_id]}\")\n",
    "      \n",
    "    \n",
    "    \n",
    "    display(\"Recommendation of restaurent on basis of restaurent selected by you\")\n",
    "    display('--'*50) \n",
    "    for j, i in enumerate(dd):\n",
    "        \n",
    "         \n",
    "        display(f\"{j+1}. Restaurent name: {df['name'][i]}\")\n",
    "        display(f\"Restaurent Cusine: {df['cuisines'][i]}\")\n",
    "        display(f\"Restaurent Address: {df['address'][i]}\")\n",
    "        display(f\"Restaurent most dish liked : {df['dish_liked'][i]}\")\n",
    "        display('--'*50)   \n",
    "#         display(f\"Book name: {df['title'][i]}\")\n",
    "#         display(f\"Book Author: {df['author'][i]}\")\n",
    "#         display(f\"Book rating: {df['rating'][i]}\")\n",
    "#         display(f\"Book Genre: {df['genres'][i]}\")\n"
   ]
  },
  {
   "cell_type": "code",
   "execution_count": 55,
   "id": "06702901",
   "metadata": {
    "ExecuteTime": {
     "end_time": "2022-08-04T08:01:51.608535Z",
     "start_time": "2022-08-04T08:01:49.707497Z"
    },
    "scrolled": false
   },
   "outputs": [
    {
     "name": "stdout",
     "output_type": "stream",
     "text": [
      "Enter restaurent ID: 156\n"
     ]
    },
    {
     "data": {
      "text/plain": [
       "'Restaurent selected By you'"
      ]
     },
     "metadata": {},
     "output_type": "display_data"
    },
    {
     "data": {
      "text/plain": [
       "'Restaurent name: The Krishna Grand Xpress'"
      ]
     },
     "metadata": {},
     "output_type": "display_data"
    },
    {
     "data": {
      "text/plain": [
       "'Restaurent Cusine: South_Indian Fast_Food'"
      ]
     },
     "metadata": {},
     "output_type": "display_data"
    },
    {
     "data": {
      "text/plain": [
       "'Recommendation of restaurent on basis of restaurent selected by you'"
      ]
     },
     "metadata": {},
     "output_type": "display_data"
    },
    {
     "data": {
      "text/plain": [
       "'----------------------------------------------------------------------------------------------------'"
      ]
     },
     "metadata": {},
     "output_type": "display_data"
    },
    {
     "data": {
      "text/plain": [
       "'1. Restaurent name: Panchami Garden'"
      ]
     },
     "metadata": {},
     "output_type": "display_data"
    },
    {
     "data": {
      "text/plain": [
       "'Restaurent Cusine: South_Indian North_Indian'"
      ]
     },
     "metadata": {},
     "output_type": "display_data"
    },
    {
     "data": {
      "text/plain": [
       "'Restaurent Address: 56/1, Next to Airtel Office, Stage 1, Bannerghatta Road, Bangalore'"
      ]
     },
     "metadata": {},
     "output_type": "display_data"
    },
    {
     "data": {
      "text/plain": [
       "'Restaurent most dish liked : Masala_Dosa Idli'"
      ]
     },
     "metadata": {},
     "output_type": "display_data"
    },
    {
     "data": {
      "text/plain": [
       "'----------------------------------------------------------------------------------------------------'"
      ]
     },
     "metadata": {},
     "output_type": "display_data"
    },
    {
     "data": {
      "text/plain": [
       "'2. Restaurent name: Vishnu Garden'"
      ]
     },
     "metadata": {},
     "output_type": "display_data"
    },
    {
     "data": {
      "text/plain": [
       "'Restaurent Cusine: South_Indian'"
      ]
     },
     "metadata": {},
     "output_type": "display_data"
    },
    {
     "data": {
      "text/plain": [
       "'Restaurent Address: 335, Near Post Office, RT Nagar, Bangalore'"
      ]
     },
     "metadata": {},
     "output_type": "display_data"
    },
    {
     "data": {
      "text/plain": [
       "'Restaurent most dish liked : Vada Filter_Coffee Masala_Dosa'"
      ]
     },
     "metadata": {},
     "output_type": "display_data"
    },
    {
     "data": {
      "text/plain": [
       "'----------------------------------------------------------------------------------------------------'"
      ]
     },
     "metadata": {},
     "output_type": "display_data"
    },
    {
     "data": {
      "text/plain": [
       "'3. Restaurent name: Udupi Grand Veg'"
      ]
     },
     "metadata": {},
     "output_type": "display_data"
    },
    {
     "data": {
      "text/plain": [
       "'Restaurent Cusine: South_Indian'"
      ]
     },
     "metadata": {},
     "output_type": "display_data"
    },
    {
     "data": {
      "text/plain": [
       "'Restaurent Address: 152/2,Opposite Government Hospital, Shanbogh Layout, Doddanekkundi, Marathahalli, Bangalore'"
      ]
     },
     "metadata": {},
     "output_type": "display_data"
    },
    {
     "data": {
      "text/plain": [
       "'Restaurent most dish liked : Chole Roti Vada'"
      ]
     },
     "metadata": {},
     "output_type": "display_data"
    },
    {
     "data": {
      "text/plain": [
       "'----------------------------------------------------------------------------------------------------'"
      ]
     },
     "metadata": {},
     "output_type": "display_data"
    },
    {
     "data": {
      "text/plain": [
       "'4. Restaurent name: Pai Vihar'"
      ]
     },
     "metadata": {},
     "output_type": "display_data"
    },
    {
     "data": {
      "text/plain": [
       "'Restaurent Cusine: South_Indian Street_Food Chinese Fast_Food'"
      ]
     },
     "metadata": {},
     "output_type": "display_data"
    },
    {
     "data": {
      "text/plain": [
       "'Restaurent Address: 16/A, Ground Floor, Kkmp Building, Vasanth Nagar, Bangalore'"
      ]
     },
     "metadata": {},
     "output_type": "display_data"
    },
    {
     "data": {
      "text/plain": [
       "'Restaurent most dish liked : Masala_Dosa Coffee'"
      ]
     },
     "metadata": {},
     "output_type": "display_data"
    },
    {
     "data": {
      "text/plain": [
       "'----------------------------------------------------------------------------------------------------'"
      ]
     },
     "metadata": {},
     "output_type": "display_data"
    },
    {
     "data": {
      "text/plain": [
       "'5. Restaurent name: Cafe Palnad'"
      ]
     },
     "metadata": {},
     "output_type": "display_data"
    },
    {
     "data": {
      "text/plain": [
       "'Restaurent Cusine: South_Indian Fast_Food'"
      ]
     },
     "metadata": {},
     "output_type": "display_data"
    },
    {
     "data": {
      "text/plain": [
       "'Restaurent Address: 532-531 8th Cross Road, Neeladri Nagar, Electronics City Phase 1, Doddathoguru, Electronic City, Bangalore'"
      ]
     },
     "metadata": {},
     "output_type": "display_data"
    },
    {
     "data": {
      "text/plain": [
       "'Restaurent most dish liked : Pizza_Dosa Chicken_Kheema_Dosa Keema_Dosa Masala_Dosa'"
      ]
     },
     "metadata": {},
     "output_type": "display_data"
    },
    {
     "data": {
      "text/plain": [
       "'----------------------------------------------------------------------------------------------------'"
      ]
     },
     "metadata": {},
     "output_type": "display_data"
    },
    {
     "data": {
      "text/plain": [
       "'6. Restaurent name: Udupi Bhavan'"
      ]
     },
     "metadata": {},
     "output_type": "display_data"
    },
    {
     "data": {
      "text/plain": [
       "'Restaurent Cusine: Chinese North_Indian South_Indian'"
      ]
     },
     "metadata": {},
     "output_type": "display_data"
    },
    {
     "data": {
      "text/plain": [
       "'Restaurent Address: 37, Harlur Road, Next to Indian Oil Petrol Bunk, HSR, Bangalore'"
      ]
     },
     "metadata": {},
     "output_type": "display_data"
    },
    {
     "data": {
      "text/plain": [
       "'Restaurent most dish liked : Vada Masala_Dosa Coffee'"
      ]
     },
     "metadata": {},
     "output_type": "display_data"
    },
    {
     "data": {
      "text/plain": [
       "'----------------------------------------------------------------------------------------------------'"
      ]
     },
     "metadata": {},
     "output_type": "display_data"
    },
    {
     "data": {
      "text/plain": [
       "'7. Restaurent name: Udupi Sri Krishna Bhavan'"
      ]
     },
     "metadata": {},
     "output_type": "display_data"
    },
    {
     "data": {
      "text/plain": [
       "'Restaurent Cusine: South_Indian'"
      ]
     },
     "metadata": {},
     "output_type": "display_data"
    },
    {
     "data": {
      "text/plain": [
       "'Restaurent Address: 115/116, 1st Floor, Gandhibazaar, Basavanagudi, Bangalore'"
      ]
     },
     "metadata": {},
     "output_type": "display_data"
    },
    {
     "data": {
      "text/plain": [
       "'Restaurent most dish liked : Masala_Dosa Vada Obbattu Badam_Milk Khara_Bhath Coffee Puri_Saagu'"
      ]
     },
     "metadata": {},
     "output_type": "display_data"
    },
    {
     "data": {
      "text/plain": [
       "'----------------------------------------------------------------------------------------------------'"
      ]
     },
     "metadata": {},
     "output_type": "display_data"
    },
    {
     "data": {
      "text/plain": [
       "'8. Restaurent name: Dhanalakshmi Grand'"
      ]
     },
     "metadata": {},
     "output_type": "display_data"
    },
    {
     "data": {
      "text/plain": [
       "'Restaurent Cusine: South_Indian North_Indian'"
      ]
     },
     "metadata": {},
     "output_type": "display_data"
    },
    {
     "data": {
      "text/plain": [
       "'Restaurent Address: 267 Near 18Th Cross Signal, Sampige Road, Malleshwaram, Bangalore'"
      ]
     },
     "metadata": {},
     "output_type": "display_data"
    },
    {
     "data": {
      "text/plain": [
       "'Restaurent most dish liked : Masala_Dosa'"
      ]
     },
     "metadata": {},
     "output_type": "display_data"
    },
    {
     "data": {
      "text/plain": [
       "'----------------------------------------------------------------------------------------------------'"
      ]
     },
     "metadata": {},
     "output_type": "display_data"
    },
    {
     "data": {
      "text/plain": [
       "'9. Restaurent name: Addhuri Udupi Bhojana'"
      ]
     },
     "metadata": {},
     "output_type": "display_data"
    },
    {
     "data": {
      "text/plain": [
       "'Restaurent Cusine: South_Indian North_Indian'"
      ]
     },
     "metadata": {},
     "output_type": "display_data"
    },
    {
     "data": {
      "text/plain": [
       "'Restaurent Address: 1st Floor, Annakuteera, 3rd Stage, Banashankari, Bangalore'"
      ]
     },
     "metadata": {},
     "output_type": "display_data"
    },
    {
     "data": {
      "text/plain": [
       "'Restaurent most dish liked : Masala_Dosa'"
      ]
     },
     "metadata": {},
     "output_type": "display_data"
    },
    {
     "data": {
      "text/plain": [
       "'----------------------------------------------------------------------------------------------------'"
      ]
     },
     "metadata": {},
     "output_type": "display_data"
    },
    {
     "data": {
      "text/plain": [
       "'10. Restaurent name: Upahara Darshini'"
      ]
     },
     "metadata": {},
     "output_type": "display_data"
    },
    {
     "data": {
      "text/plain": [
       "'Restaurent Cusine: North_Indian Chinese South_Indian Fast_Food'"
      ]
     },
     "metadata": {},
     "output_type": "display_data"
    },
    {
     "data": {
      "text/plain": [
       "'Restaurent Address: 9/2, South End Main Road, Next to Surana College, Basavanagudi, Bangalore'"
      ]
     },
     "metadata": {},
     "output_type": "display_data"
    },
    {
     "data": {
      "text/plain": [
       "'Restaurent most dish liked : Masala_Dosa'"
      ]
     },
     "metadata": {},
     "output_type": "display_data"
    },
    {
     "data": {
      "text/plain": [
       "'----------------------------------------------------------------------------------------------------'"
      ]
     },
     "metadata": {},
     "output_type": "display_data"
    },
    {
     "data": {
      "text/plain": [
       "'11. Restaurent name: Asha Food Camp'"
      ]
     },
     "metadata": {},
     "output_type": "display_data"
    },
    {
     "data": {
      "text/plain": [
       "'Restaurent Cusine: South_Indian Street_Food Fast_Food'"
      ]
     },
     "metadata": {},
     "output_type": "display_data"
    },
    {
     "data": {
      "text/plain": [
       "'Restaurent Address: 89, 1st Main, 10th Cross, Temple Street, Sampige Road, Malleshwaram, Bangalore'"
      ]
     },
     "metadata": {},
     "output_type": "display_data"
    },
    {
     "data": {
      "text/plain": [
       "'Restaurent most dish liked : Panneer_Butter_Masala Manchurian Fruit_Salad Idli Filter_Coffee Dhokla Kashmiri_Pulao'"
      ]
     },
     "metadata": {},
     "output_type": "display_data"
    },
    {
     "data": {
      "text/plain": [
       "'----------------------------------------------------------------------------------------------------'"
      ]
     },
     "metadata": {},
     "output_type": "display_data"
    },
    {
     "data": {
      "text/plain": [
       "'12. Restaurent name: Shanthi Sagar Deluxe'"
      ]
     },
     "metadata": {},
     "output_type": "display_data"
    },
    {
     "data": {
      "text/plain": [
       "'Restaurent Cusine: South_Indian North_Indian Fast_Food'"
      ]
     },
     "metadata": {},
     "output_type": "display_data"
    },
    {
     "data": {
      "text/plain": [
       "'Restaurent Address: 66, Coles Road, Frazer Town, Bangalore'"
      ]
     },
     "metadata": {},
     "output_type": "display_data"
    },
    {
     "data": {
      "text/plain": [
       "'Restaurent most dish liked : Masala_Dosa Coffee'"
      ]
     },
     "metadata": {},
     "output_type": "display_data"
    },
    {
     "data": {
      "text/plain": [
       "'----------------------------------------------------------------------------------------------------'"
      ]
     },
     "metadata": {},
     "output_type": "display_data"
    },
    {
     "data": {
      "text/plain": [
       "'13. Restaurent name: Sanman'"
      ]
     },
     "metadata": {},
     "output_type": "display_data"
    },
    {
     "data": {
      "text/plain": [
       "'Restaurent Cusine: North_Indian South_Indian Fast_Food Chinese'"
      ]
     },
     "metadata": {},
     "output_type": "display_data"
    },
    {
     "data": {
      "text/plain": [
       "'Restaurent Address: 212, Subedar Chatram Road, Nagappa Road, VV Giri Colony, Seshadripuram, Bangalore'"
      ]
     },
     "metadata": {},
     "output_type": "display_data"
    },
    {
     "data": {
      "text/plain": [
       "'Restaurent most dish liked : Rava_Dosa Filter_Coffee Masala_Dosa Pongal Rava_Idli Vada'"
      ]
     },
     "metadata": {},
     "output_type": "display_data"
    },
    {
     "data": {
      "text/plain": [
       "'----------------------------------------------------------------------------------------------------'"
      ]
     },
     "metadata": {},
     "output_type": "display_data"
    },
    {
     "data": {
      "text/plain": [
       "'14. Restaurent name: Sri Udupi Food Hub'"
      ]
     },
     "metadata": {},
     "output_type": "display_data"
    },
    {
     "data": {
      "text/plain": [
       "'Restaurent Cusine: South_Indian North_Indian Chinese Beverages'"
      ]
     },
     "metadata": {},
     "output_type": "display_data"
    },
    {
     "data": {
      "text/plain": [
       "'Restaurent Address: 155, 43rd Cross Road, 8th Block, Jayanagar, Bangalore'"
      ]
     },
     "metadata": {},
     "output_type": "display_data"
    },
    {
     "data": {
      "text/plain": [
       "'Restaurent most dish liked : Filter_Coffee Masala_Dosa Idli Vada'"
      ]
     },
     "metadata": {},
     "output_type": "display_data"
    },
    {
     "data": {
      "text/plain": [
       "'----------------------------------------------------------------------------------------------------'"
      ]
     },
     "metadata": {},
     "output_type": "display_data"
    },
    {
     "data": {
      "text/plain": [
       "'15. Restaurent name: Priyadarshini Veg'"
      ]
     },
     "metadata": {},
     "output_type": "display_data"
    },
    {
     "data": {
      "text/plain": [
       "'Restaurent Cusine: North_Indian South_Indian Chinese'"
      ]
     },
     "metadata": {},
     "output_type": "display_data"
    },
    {
     "data": {
      "text/plain": [
       "'Restaurent Address: 765, 1st Main Road, 5th Cross, Near RTO Office, Yeshwantpur, Bangalore'"
      ]
     },
     "metadata": {},
     "output_type": "display_data"
    },
    {
     "data": {
      "text/plain": [
       "'Restaurent most dish liked : Idli Masala_Dosa'"
      ]
     },
     "metadata": {},
     "output_type": "display_data"
    },
    {
     "data": {
      "text/plain": [
       "'----------------------------------------------------------------------------------------------------'"
      ]
     },
     "metadata": {},
     "output_type": "display_data"
    },
    {
     "data": {
      "text/plain": [
       "'16. Restaurent name: Upahar Sagar'"
      ]
     },
     "metadata": {},
     "output_type": "display_data"
    },
    {
     "data": {
      "text/plain": [
       "'Restaurent Cusine: South_Indian Chinese North_Indian'"
      ]
     },
     "metadata": {},
     "output_type": "display_data"
    },
    {
     "data": {
      "text/plain": [
       "'Restaurent Address: 727, 23rd Cross, KR Road, 2nd Stage, Banashankari, Bangalore'"
      ]
     },
     "metadata": {},
     "output_type": "display_data"
    },
    {
     "data": {
      "text/plain": [
       "'Restaurent most dish liked : Masala_Dosa'"
      ]
     },
     "metadata": {},
     "output_type": "display_data"
    },
    {
     "data": {
      "text/plain": [
       "'----------------------------------------------------------------------------------------------------'"
      ]
     },
     "metadata": {},
     "output_type": "display_data"
    },
    {
     "data": {
      "text/plain": [
       "\"17. Restaurent name: Mc Donald's\""
      ]
     },
     "metadata": {},
     "output_type": "display_data"
    },
    {
     "data": {
      "text/plain": [
       "'Restaurent Cusine: Burger Fast_Food'"
      ]
     },
     "metadata": {},
     "output_type": "display_data"
    },
    {
     "data": {
      "text/plain": [
       "'Restaurent Address: 29, Whitefield - Hoskote Road, Seegehalli, Kadugodi, Whitefield, Bangalore'"
      ]
     },
     "metadata": {},
     "output_type": "display_data"
    },
    {
     "data": {
      "text/plain": [
       "'Restaurent most dish liked : Burgers'"
      ]
     },
     "metadata": {},
     "output_type": "display_data"
    },
    {
     "data": {
      "text/plain": [
       "'----------------------------------------------------------------------------------------------------'"
      ]
     },
     "metadata": {},
     "output_type": "display_data"
    },
    {
     "data": {
      "text/plain": [
       "'18. Restaurent name: Meat And Eat (ME)'"
      ]
     },
     "metadata": {},
     "output_type": "display_data"
    },
    {
     "data": {
      "text/plain": [
       "'Restaurent Cusine: Fast_Food Burger'"
      ]
     },
     "metadata": {},
     "output_type": "display_data"
    },
    {
     "data": {
      "text/plain": [
       "'Restaurent Address: 326, Ground Floor, Murgesh Palya, Old Airport Road, Bangalore'"
      ]
     },
     "metadata": {},
     "output_type": "display_data"
    },
    {
     "data": {
      "text/plain": [
       "'Restaurent most dish liked : Burgers'"
      ]
     },
     "metadata": {},
     "output_type": "display_data"
    },
    {
     "data": {
      "text/plain": [
       "'----------------------------------------------------------------------------------------------------'"
      ]
     },
     "metadata": {},
     "output_type": "display_data"
    },
    {
     "data": {
      "text/plain": [
       "'19. Restaurent name: Potato Bae'"
      ]
     },
     "metadata": {},
     "output_type": "display_data"
    },
    {
     "data": {
      "text/plain": [
       "'Restaurent Cusine: Fast_Food'"
      ]
     },
     "metadata": {},
     "output_type": "display_data"
    },
    {
     "data": {
      "text/plain": [
       "'Restaurent Address: 70, Prem Chambers, Jyothi Nivas Collage Road, Koramangala 5th Block, Bangalore'"
      ]
     },
     "metadata": {},
     "output_type": "display_data"
    },
    {
     "data": {
      "text/plain": [
       "'Restaurent most dish liked : Almond_Shake Pizza_Fries'"
      ]
     },
     "metadata": {},
     "output_type": "display_data"
    },
    {
     "data": {
      "text/plain": [
       "'----------------------------------------------------------------------------------------------------'"
      ]
     },
     "metadata": {},
     "output_type": "display_data"
    },
    {
     "data": {
      "text/plain": [
       "'20. Restaurent name: Rolls Mania'"
      ]
     },
     "metadata": {},
     "output_type": "display_data"
    },
    {
     "data": {
      "text/plain": [
       "'Restaurent Cusine: Fast_Food Rolls'"
      ]
     },
     "metadata": {},
     "output_type": "display_data"
    },
    {
     "data": {
      "text/plain": [
       "'Restaurent Address: 3rd Floor, Park Square Mall, ITPL Road, Whitefield, Bangalore'"
      ]
     },
     "metadata": {},
     "output_type": "display_data"
    },
    {
     "data": {
      "text/plain": [
       "'Restaurent most dish liked : Rolls'"
      ]
     },
     "metadata": {},
     "output_type": "display_data"
    },
    {
     "data": {
      "text/plain": [
       "'----------------------------------------------------------------------------------------------------'"
      ]
     },
     "metadata": {},
     "output_type": "display_data"
    }
   ],
   "source": [
    "model( final_feature, int(input('Enter restaurent ID: ')))"
   ]
  },
  {
   "cell_type": "code",
   "execution_count": null,
   "id": "dc476e88",
   "metadata": {},
   "outputs": [],
   "source": []
  }
 ],
 "metadata": {
  "kernelspec": {
   "display_name": "Python 3 (ipykernel)",
   "language": "python",
   "name": "python3"
  },
  "language_info": {
   "codemirror_mode": {
    "name": "ipython",
    "version": 3
   },
   "file_extension": ".py",
   "mimetype": "text/x-python",
   "name": "python",
   "nbconvert_exporter": "python",
   "pygments_lexer": "ipython3",
   "version": "3.8.9"
  },
  "toc": {
   "base_numbering": 1,
   "nav_menu": {},
   "number_sections": true,
   "sideBar": true,
   "skip_h1_title": false,
   "title_cell": "Table of Contents",
   "title_sidebar": "Contents",
   "toc_cell": false,
   "toc_position": {},
   "toc_section_display": true,
   "toc_window_display": false
  }
 },
 "nbformat": 4,
 "nbformat_minor": 5
}
